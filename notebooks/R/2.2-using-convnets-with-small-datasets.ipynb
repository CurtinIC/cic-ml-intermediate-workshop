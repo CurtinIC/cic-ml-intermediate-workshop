{
 "cells": [
  {
   "cell_type": "code",
   "execution_count": null,
   "metadata": {},
   "outputs": [],
   "source": [
    "library(keras)\n",
    "library(reticulate)\n",
    "library(ggplot2)\n",
    "library(gridExtra)\n",
    "use_condaenv(\"r-tensorflow\")\n",
    "use_session_with_seed(7)\n",
    "options(keras.view_metrics = TRUE)"
   ]
  },
  {
   "cell_type": "markdown",
   "metadata": {},
   "source": [
    "# 2.2 - Using convnets with small datasets\n",
    "\n",
    "This notebook contains the code samples found in Chapter 5, Section 2 of [Deep Learning with R](https://www.manning.com/books/deep-learning-with-r). Note that the original text features far more content, in particular further explanations and figures: in this notebook, you will only find source code and related comments.\n",
    "\n",
    "## Training a convnet from scratch on a small dataset\n",
    "\n",
    "Having to train an image classification model using only very little data is a common situation, which you likely encounter yourself in \n",
    "practice if you ever do computer vision in a professional context.\n",
    "\n",
    "Having \"few\" samples can mean anywhere from a few hundreds to a few tens of thousands of images. As a practical example, we will focus on \n",
    "classifying images as \"dogs\" or \"cats\", in a dataset containing 4000 pictures of cats and dogs (2000 cats, 2000 dogs). We will use 2000 \n",
    "pictures for training, 1000 for validation, and finally 1000 for testing.\n",
    "\n",
    "In this section, we will review one basic strategy to tackle this problem: training a new model from scratch on what little data we have. We \n",
    "will start by naively training a small convnet on our 2000 training samples, without any regularization, to set a baseline for what can be \n",
    "achieved. This will get us to a classification accuracy of 71%. At that point, our main issue will be overfitting. Then we will introduce \n",
    "*data augmentation*, a powerful technique for mitigating overfitting in computer vision. By leveraging data augmentation, we will improve \n",
    "our network to reach an accuracy of 82%.\n",
    "\n",
    "In the next section, we will review two more essential techniques for applying deep learning to small datasets: *doing feature extraction \n",
    "with a pre-trained network* (this will get us to an accuracy of 90% to 93%), and *fine-tuning a pre-trained network* (this will get us to \n",
    "our final accuracy of 95%). Together, these three strategies -- training a small model from scratch, doing feature extracting using a \n",
    "pre-trained model, and fine-tuning a pre-trained model -- will constitute your future toolbox for tackling the problem of doing computer \n",
    "vision with small datasets."
   ]
  },
  {
   "cell_type": "markdown",
   "metadata": {},
   "source": [
    "## The relevance of deep learning for small-data problems\n",
    "\n",
    "You will sometimes hear that deep learning only works when lots of data is available. This is in part a valid point: one fundamental \n",
    "characteristic of deep learning is that it is able to find interesting features in the training data on its own, without any need for manual \n",
    "feature engineering, and this can only be achieved when lots of training examples are available. This is especially true for problems where \n",
    "the input samples are very high-dimensional, like images.\n",
    "\n",
    "However, what constitutes \"lots\" of samples is relative -- relative to the size and depth of the network you are trying to train, for \n",
    "starters. It isn't possible to train a convnet to solve a complex problem with just a few tens of samples, but a few hundreds can \n",
    "potentially suffice if the model is small and well-regularized and if the task is simple. \n",
    "Because convnets learn local, translation-invariant features, they are very \n",
    "data-efficient on perceptual problems. Training a convnet from scratch on a very small image dataset will still yield reasonable results \n",
    "despite a relative lack of data, without the need for any custom feature engineering. You will see this in action in this section.\n",
    "\n",
    "But what's more, deep learning models are by nature highly repurposable: you can take, say, an image classification or speech-to-text model \n",
    "trained on a large-scale dataset then reuse it on a significantly different problem with only minor changes. Specifically, in the case of \n",
    "computer vision, many pre-trained models (usually trained on the ImageNet dataset) are now publicly available for download and can be used \n",
    "to bootstrap powerful vision models out of very little data. That's what we will do in the next section.\n",
    "\n",
    "For now, let's get started by getting our hands on the data."
   ]
  },
  {
   "cell_type": "markdown",
   "metadata": {},
   "source": [
    "## Downloading the data\n",
    "\n",
    "The cats vs. dogs dataset that we will use isn't packaged with Keras. It was made available by Kaggle.com as part of a computer vision competition in late 2013, back when convnets weren't quite mainstream. \n",
    "\n",
    "The pictures are medium-resolution color JPEGs. They look like this:\n",
    "\n",
    "![cats_vs_dogs_samples](https://s3.amazonaws.com/book.keras.io/img/ch5/cats_vs_dogs_samples.jpg)"
   ]
  },
  {
   "cell_type": "markdown",
   "metadata": {},
   "source": [
    "Unsurprisingly, the cats vs. dogs Kaggle competition in 2013 was won by entrants who used convnets. \n",
    "The best entries could achieve up to 95% accuracy. In our own example, we will get fairly close to this accuracy (in the next section), even though we will be training our models on less than 10% of the data that was available to the competitors.\n",
    "\n",
    "\n",
    "This original dataset contains 25,000 images of dogs and cats (12,500 from each class) and is 543MB large (compressed). You can download it at: `https://www.kaggle.com/c/dogs-vs-cats/data` (you will need to create a Kaggle account if you don't already have one -- don't worry, the process is painless). \n",
    "\n",
    "For this notebook we have already prepared the data by splititng it into three subsets: a training set with 1000 samples of each class, a validation set with 500 samples of each class, and finally a test set with 500 samples of each class.\n",
    "\n",
    "**Please download the prepared [data](https://drive.google.com/open?id=1H5do852RlW7EdALFQOiP6hro7zB--AY9) and unzip it within or move to the notebooks folder**\n",
    "\n",
    "Here are a few lines of code to do this:"
   ]
  },
  {
   "cell_type": "code",
   "execution_count": null,
   "metadata": {},
   "outputs": [],
   "source": [
    "# Setting up the file names\n",
    "# Note we already copied the required data into the relevant folders.\n",
    "\n",
    "base_dir <- \"../data/cats_and_dogs_small\"\n",
    "\n",
    "train_dir <- file.path(base_dir, \"train\")\n",
    "validation_dir <- file.path(base_dir, \"validation\")\n",
    "test_dir <- file.path(base_dir, \"test\")\n",
    "\n",
    "train_cats_dir <- file.path(train_dir, \"cats\")\n",
    "\n",
    "train_dogs_dir <- file.path(train_dir, \"dogs\")\n",
    "\n",
    "validation_cats_dir <- file.path(validation_dir, \"cats\")\n",
    "\n",
    "validation_dogs_dir <- file.path(validation_dir, \"dogs\")\n",
    "\n",
    "test_cats_dir <- file.path(test_dir, \"cats\")\n",
    "\n",
    "test_dogs_dir <- file.path(test_dir, \"dogs\")"
   ]
  },
  {
   "cell_type": "markdown",
   "metadata": {},
   "source": [
    "As a sanity check, let's count how many pictures we have in each training split (train/validation/test):"
   ]
  },
  {
   "cell_type": "code",
   "execution_count": null,
   "metadata": {},
   "outputs": [],
   "source": [
    "cat(\"total training cat images:\", length(list.files(train_cats_dir)))"
   ]
  },
  {
   "cell_type": "code",
   "execution_count": null,
   "metadata": {},
   "outputs": [],
   "source": [
    "cat(\"total training dog images:\", length(list.files(train_dogs_dir)))"
   ]
  },
  {
   "cell_type": "code",
   "execution_count": null,
   "metadata": {},
   "outputs": [],
   "source": [
    "cat(\"total validation cat images:\", length(list.files(validation_cats_dir)))"
   ]
  },
  {
   "cell_type": "code",
   "execution_count": null,
   "metadata": {},
   "outputs": [],
   "source": [
    "cat(\"total validation dog images:\", length(list.files(validation_dogs_dir)))"
   ]
  },
  {
   "cell_type": "code",
   "execution_count": null,
   "metadata": {},
   "outputs": [],
   "source": [
    "cat(\"total test cat images:\", length(list.files(test_cats_dir)))"
   ]
  },
  {
   "cell_type": "code",
   "execution_count": null,
   "metadata": {},
   "outputs": [],
   "source": [
    "cat(\"total test dog images:\", length(list.files(test_dogs_dir)))"
   ]
  },
  {
   "cell_type": "markdown",
   "metadata": {},
   "source": [
    "\n",
    "So we have indeed 2000 training images, and then 1000 validation images and 1000 test images. In each split, there is the same number of \n",
    "samples from each class: this is a balanced binary classification problem, which means that classification accuracy will be an appropriate \n",
    "measure of success."
   ]
  },
  {
   "cell_type": "markdown",
   "metadata": {},
   "source": [
    "## Building our network\n",
    "\n",
    "We've already built a small convnet for MNIST in the previous example, so you should be familiar with them. We will reuse the same \n",
    "general structure: our convnet will be a stack of alternated `Conv2D` (with `relu` activation) and `MaxPooling2D` layers.\n",
    "\n",
    "However, since we are dealing with bigger images and a more complex problem, we will make our network accordingly larger: it will have one \n",
    "more `Conv2D` + `MaxPooling2D` stage. This serves both to augment the capacity of the network, and to further reduce the size of the \n",
    "feature maps, so that they aren't overly large when we reach the `Flatten` layer. Here, since we start from inputs of size 150x150 (a \n",
    "somewhat arbitrary choice), we end up with feature maps of size 7x7 right before the `Flatten` layer.\n",
    "\n",
    "Note that the depth of the feature maps is progressively increasing in the network (from 32 to 128), while the size of the feature maps is \n",
    "decreasing (from 148x148 to 7x7). This is a pattern that you will see in almost all convnets.\n",
    "\n",
    "Since we are attacking a binary classification problem, we are ending the network with a single unit (a `Dense` layer of size 1) and a \n",
    "`sigmoid` activation. This unit will encode the probability that the network is looking at one class or the other."
   ]
  },
  {
   "cell_type": "code",
   "execution_count": null,
   "metadata": {},
   "outputs": [],
   "source": [
    "# library(keras)\n",
    "\n",
    "model <- keras_model_sequential() %>% \n",
    "  layer_conv_2d(filters = 32, kernel_size = c(3, 3), activation = \"relu\",\n",
    "                input_shape = c(150, 150, 3)) %>% \n",
    "  layer_max_pooling_2d(pool_size = c(2, 2)) %>% \n",
    "  layer_conv_2d(filters = 64, kernel_size = c(3, 3), activation = \"relu\") %>% \n",
    "  layer_max_pooling_2d(pool_size = c(2, 2)) %>% \n",
    "  layer_conv_2d(filters = 128, kernel_size = c(3, 3), activation = \"relu\") %>% \n",
    "  layer_max_pooling_2d(pool_size = c(2, 2)) %>% \n",
    "  layer_conv_2d(filters = 128, kernel_size = c(3, 3), activation = \"relu\") %>% \n",
    "  layer_max_pooling_2d(pool_size = c(2, 2)) %>% \n",
    "  layer_flatten() %>% \n",
    "  layer_dense(units = 512, activation = \"relu\") %>% \n",
    "  layer_dense(units = 1, activation = \"sigmoid\")\n"
   ]
  },
  {
   "cell_type": "markdown",
   "metadata": {},
   "source": [
    "Let's take a look at how the dimensions of the feature maps change with every successive layer:"
   ]
  },
  {
   "cell_type": "code",
   "execution_count": null,
   "metadata": {},
   "outputs": [],
   "source": [
    "summary(model)"
   ]
  },
  {
   "cell_type": "markdown",
   "metadata": {},
   "source": [
    "For our compilation step, we'll go with the `RMSprop` optimizer as usual. Since we ended our network with a single sigmoid unit, we will use binary crossentropy as our loss.\n",
    "\n",
    "| Problem type        | Last-layer activation           | Loss function |\n",
    "| :------------ |:-------------:| -----:|\n",
    "| Binary classification      | sigmoid | binary_crossentropy |\n",
    "| Multiclass, single-label classification      | softmax      |   categorical_crossentropy |\n",
    "| Multiclass, multilabel classification | sigmoid      |    binary_crossentropy |\n",
    "| Regression to arbitary values | None | mse |\n",
    "| Regression to values between 0 and 1 | sigmoid | mse or binary_crossentropy |"
   ]
  },
  {
   "cell_type": "code",
   "execution_count": null,
   "metadata": {},
   "outputs": [],
   "source": [
    "model %>% compile(\n",
    "  loss = \"binary_crossentropy\",\n",
    "  optimizer = optimizer_rmsprop(lr = 1e-4),\n",
    "  metrics = c(\"acc\")\n",
    ")"
   ]
  },
  {
   "cell_type": "markdown",
   "metadata": {},
   "source": [
    "## Data preprocessing\n",
    "\n",
    "As you already know by now, data should be formatted into appropriately pre-processed floating point tensors before being fed into our \n",
    "network. Currently, our data sits on a drive as JPEG files, so the steps for getting it into our network are roughly:\n",
    "\n",
    "1. Read the picture files.\n",
    "2. Decode the JPEG content to RBG grids of pixels.\n",
    "3. Convert these into floating point tensors.\n",
    "4. Rescale the pixel values (between 0 and 255) to the [0, 1] interval (as you know, neural networks prefer to deal with small input values).\n",
    "\n",
    "It may seem a bit daunting, but thankfully Keras has utilities to take care of these steps automatically. Keras includes a number of image processing helper tools. In particular, it includes the `image_data_generator()` function, which can automatically turn image files on disk into batches of pre-processed tensors. This is what we will use here.\n"
   ]
  },
  {
   "cell_type": "code",
   "execution_count": null,
   "metadata": {},
   "outputs": [],
   "source": [
    "# All images will be rescaled by 1/255\n",
    "train_datagen <- \n",
    "validation_datagen <- \n",
    "\n",
    "train_generator <- flow_images_from_directory(\n",
    "# This is the target directory (training data)\n",
    "\n",
    "# This is the data generator\n",
    "\n",
    "# All images will be resized to 150x150\n",
    "target_size = c(150, 150),\n",
    "# Batch size\n",
    "\n",
    "# Since we use binary_crossentropy loss, we need binary labels\n",
    ")\n",
    "\n",
    "validation_generator <- flow_images_from_directory(\n",
    "#equivalent to the above but for the validation directory\n",
    ")"
   ]
  },
  {
   "cell_type": "markdown",
   "metadata": {},
   "source": [
    "Let's look at the output of one of these generators: it yields batches of 150 × 150 RGB images (shape `(20, 150, 150, 3)`) and binary labels (shape `(20)`). There are 20 samples in each batch (the batch size). Note that the generator yields these batches indefinitely: it loops endlessly over the images in the target folder."
   ]
  },
  {
   "cell_type": "code",
   "execution_count": null,
   "metadata": {},
   "outputs": [],
   "source": [
    "batch <- generator_next(train_generator)\n",
    "str(batch)"
   ]
  },
  {
   "cell_type": "markdown",
   "metadata": {},
   "source": [
    "Let's fit our model to the data using the generator. We do it using the `fit_generator` method, the equivalent of `fit` for data generators \n",
    "like ours. It expects as first argument a Python generator that will yield batches of inputs and targets indefinitely, like ours does. \n",
    "Because the data is being generated endlessly, the generator needs to know example how many samples to draw from the generator before \n",
    "declaring an epoch over. This is the role of the `steps_per_epoch` argument: after having drawn `steps_per_epoch` batches from the \n",
    "generator, i.e. after having run for `steps_per_epoch` gradient descent steps, the fitting process will go to the next epoch. In our case, \n",
    "batches are 20-sample large, so it will take 100 batches until we see our target of 2000 samples.\n",
    "\n",
    "When using `fit_generator`, one may pass a `validation_data` argument, much like with the `fit` method. Importantly, this argument is \n",
    "allowed to be a data generator itself, but it could be a tuple of Numpy arrays as well. If you pass a generator as `validation_data`, then \n",
    "this generator is expected to yield batches of validation data endlessly, and thus you should also specify the `validation_steps` argument, \n",
    "which tells the process how many batches to draw from the validation generator for evaluation."
   ]
  },
  {
   "cell_type": "code",
   "execution_count": null,
   "metadata": {},
   "outputs": [],
   "source": [
    "# history <- model %>% fit_generator(\n",
    "#   train_generator,\n",
    "#   steps_per_epoch = 100,\n",
    "#   epochs = 2,\n",
    "#   validation_data = validation_generator,\n",
    "#   validation_steps = 50\n",
    "# )\n",
    "\n",
    "# It is good practice to always save your models after training:\n",
    "# model %>% save_model_hdf5(\"cats_and_dogs_small_1.h5\")"
   ]
  },
  {
   "cell_type": "markdown",
   "metadata": {},
   "source": [
    "<center><h2> As before, we don't have time to train the model, so we load a pretrained model instead"
   ]
  },
  {
   "cell_type": "code",
   "execution_count": null,
   "metadata": {},
   "outputs": [],
   "source": [
    "model <- load_model_hdf5(\"../data/models/cats_and_dogs_small_1.h5\")\n",
    "history  <- py_load_object('../data/models/2-2-GPU-history.pk')\n",
    "df <- data.frame(val_loss=unlist(history$val_loss), val_acc=unlist(history$val_acc), loss=unlist(history$loss), acc=unlist(history$acc), epochs=seq(length(history$val_loss)))\n",
    "summary(model)"
   ]
  },
  {
   "cell_type": "markdown",
   "metadata": {},
   "source": [
    "Let's plot the loss and accuracy of the model over the training and validation data during training:"
   ]
  },
  {
   "cell_type": "code",
   "execution_count": null,
   "metadata": {
    "scrolled": false
   },
   "outputs": [],
   "source": [
    "options(repr.plot.width=8, repr.plot.height=6)\n",
    "\n",
    "p1 <- ggplot(df, aes(x=epochs)) +\n",
    "  geom_point(aes( y=loss, colour = \"Trainig loss\")) +\n",
    "  geom_line(aes(y=val_loss,colour = \"Validation loss\")) +\n",
    "  scale_colour_manual(\"\",values=c(\"blue\",\"orange\"))\n",
    "p2 <- ggplot(df, aes(x=epochs)) +\n",
    "  geom_point(aes( y=acc, colour = \"Training acc\")) +\n",
    "  geom_line(aes(y=val_acc,colour = \"Validation acc\")) +\n",
    "  scale_colour_manual(\"\",values=c(\"blue\",\"orange\"))\n",
    "\n",
    "grid.arrange(p1,p2)"
   ]
  },
  {
   "cell_type": "markdown",
   "metadata": {},
   "source": [
    "**These plots are characteristic of overfitting**. \n",
    "Our training accuracy increases linearly over time, until it reaches nearly 100%, while our \n",
    "validation accuracy stalls at 70-72%. Our validation loss reaches its minimum after only five epochs then stalls, while the training loss keeps decreasing linearly until it reaches nearly 0.\n",
    "\n",
    "Because we only have **relatively few training samples** (2000), **overfitting** is going to be our number one concern. \n",
    "A technique that can help mitigate overfitting specific to computer vision, and which is used almost universally when processing images with deep learning models, is: **data augmentation**."
   ]
  },
  {
   "cell_type": "markdown",
   "metadata": {},
   "source": [
    "## Using data augmentation\n",
    "\n",
    "Overfitting is caused by having too few samples to learn from, rendering us unable to train a model able to generalize to new data. Given infinite data, our model would be exposed to every possible aspect of the data distribution at hand: we would never overfit. Data augmentation takes the approach of generating more training data from existing training samples, by \"augmenting\" the samples via a number of random transformations that yield believable-looking images. The goal is that at training time, our model would never see the exact same picture twice. This helps the model get exposed to more aspects of the data and generalize better.\n",
    "\n",
    "In Keras, this can be done by configuring a number of random transformations to be performed on the images read by an `image_data_generator()`. "
   ]
  },
  {
   "cell_type": "markdown",
   "metadata": {},
   "source": [
    "There are several options available (for more, see the Keras documentation). Here we'll use:\n",
    "\n",
    "* `rotation_range` is a value in degrees (0-180), a range within which to randomly rotate pictures.\n",
    "* `width_shift` and `height_shift` are ranges (as a fraction of total width or height) within which to randomly translate pictures \n",
    "vertically or horizontally.\n",
    "* `shear_range` is for randomly applying shearing transformations.\n",
    "* `zoom_range` is for randomly zooming inside pictures.\n",
    "* `horizontal_flip` is for randomly flipping half of the images horizontally -- relevant when there are no assumptions of horizontal \n",
    "asymmetry (e.g. real-world pictures).\n",
    "* `fill_mode` is the strategy used for filling in newly created pixels, which can appear after a rotation or a width/height shift."
   ]
  },
  {
   "cell_type": "code",
   "execution_count": null,
   "metadata": {},
   "outputs": [],
   "source": [
    "# Let's fill in the above arguments\n",
    "datagen <- image_data_generator(\n",
    ")\n"
   ]
  },
  {
   "cell_type": "markdown",
   "metadata": {},
   "source": [
    "Let's take a look at our augmented images:"
   ]
  },
  {
   "cell_type": "code",
   "execution_count": null,
   "metadata": {},
   "outputs": [],
   "source": [
    "# We pick one image to \"augment\"\n",
    "fnames <- list.files(train_cats_dir, full.names = TRUE)\n",
    "img_path <- fnames[[4]]\n",
    "\n",
    "# Convert it to an array with shape (150, 150, 3)\n",
    "img <- image_load(img_path, target_size = c(150, 150))\n",
    "img_array <- image_to_array(img)\n",
    "img_array <- array_reshape(img_array, c(1, 150, 150, 3))\n",
    "\n",
    "# Generated that will flow augmented images\n",
    "augmentation_generator <- flow_images_from_data(\n",
    "  img_array, \n",
    "  generator = datagen, \n",
    "  batch_size = 1 \n",
    ")\n",
    "\n",
    "# Plot the first 4 augmented images\n",
    "op <- par(mfrow = c(2, 2), pty = \"s\", mar = c(1, 0, 1, 0))\n",
    "for (i in 1:4) {\n",
    "  batch <- generator_next(augmentation_generator)\n",
    "  plot(as.raster(batch[1,,,]))\n",
    "}\n",
    "par(op)"
   ]
  },
  {
   "cell_type": "markdown",
   "metadata": {},
   "source": [
    "If we train a new network using this data augmentation configuration, our network will never see twice the same input. However, the inputs that it sees are still heavily intercorrelated, since they come from a small number of original images -- we cannot produce new information, we can only remix existing information. \n",
    "As such, this might not be quite enough to completely get rid of overfitting. \n",
    "\n",
    "To further fight overfitting, we will also add a dropout layer to our model, right before the densely-connected classifier:"
   ]
  },
  {
   "cell_type": "code",
   "execution_count": null,
   "metadata": {},
   "outputs": [],
   "source": [
    "model <- keras_model_sequential() %>% \n",
    "  layer_conv_2d(filters = 32, kernel_size = c(3, 3), activation = \"relu\",\n",
    "                input_shape = c(150, 150, 3)) %>% \n",
    "  layer_max_pooling_2d(pool_size = c(2, 2)) %>% \n",
    "  layer_conv_2d(filters = 64, kernel_size = c(3, 3), activation = \"relu\") %>% \n",
    "  layer_max_pooling_2d(pool_size = c(2, 2)) %>% \n",
    "  layer_conv_2d(filters = 128, kernel_size = c(3, 3), activation = \"relu\") %>% \n",
    "  layer_max_pooling_2d(pool_size = c(2, 2)) %>% \n",
    "  layer_conv_2d(filters = 128, kernel_size = c(3, 3), activation = \"relu\") %>% \n",
    "  layer_max_pooling_2d(pool_size = c(2, 2)) %>% \n",
    "  layer_flatten() %>% \n",
    "  layer_dropout(rate = 0.5) %>% \n",
    "  layer_dense(units = 512, activation = \"relu\") %>% \n",
    "  layer_dense(units = 1, activation = \"sigmoid\")  \n",
    "  \n",
    "model %>% compile(\n",
    "  loss = \"binary_crossentropy\",\n",
    "  optimizer = optimizer_rmsprop(lr = 1e-4),\n",
    "  metrics = c(\"acc\")\n",
    ")\n",
    "\n",
    "summary(model)"
   ]
  },
  {
   "cell_type": "markdown",
   "metadata": {},
   "source": [
    "<center><h3>Let's train our network using data augmentation and dropout:"
   ]
  },
  {
   "cell_type": "code",
   "execution_count": null,
   "metadata": {},
   "outputs": [],
   "source": [
    "datagen <- image_data_generator(\n",
    " # as above, plus we add the image rescale\n",
    "  rescale = 1/255,\n",
    "  rotation_range = 40,\n",
    "  width_shift_range = 0.2,\n",
    "  height_shift_range = 0.2,\n",
    "  shear_range = 0.2,\n",
    "  zoom_range = 0.2,\n",
    "  horizontal_flip = TRUE\n",
    ")\n",
    "\n",
    "# Note that the validation data should not be augmented!\n",
    "# we will simply rescale it\n",
    "test_datagen <- image_data_generator(rescale = 1/255)\n",
    "\n",
    "train_generator <- flow_images_from_directory(\n",
    "  train_dir,\n",
    "  datagen,\n",
    "  target_size = c(150, 150),\n",
    "  batch_size = 32,\n",
    "  class_mode = \"binary\"\n",
    ")\n",
    "\n",
    "validation_generator <- flow_images_from_directory(\n",
    "  validation_dir,\n",
    "  test_datagen,\n",
    "  target_size = c(150, 150),\n",
    "  batch_size = 32,\n",
    "  class_mode = \"binary\"\n",
    ")\n",
    "\n",
    "# history <- model %>% fit_generator(\n",
    "#   train_generator,\n",
    "#   steps_per_epoch = 100,\n",
    "#   epochs = 2,\n",
    "#   validation_data = validation_generator,\n",
    "#   validation_steps = 50\n",
    "# )\n",
    "# # Let's save our model -- we will be using it in the section on convnet visualization.\n",
    "# model %>% save_model_hdf5(\"cats_and_dogs_small_2.h5\")"
   ]
  },
  {
   "cell_type": "markdown",
   "metadata": {},
   "source": [
    "<center><h2> As before, we don't have time to train the model, so we load a pretrained model instead"
   ]
  },
  {
   "cell_type": "code",
   "execution_count": null,
   "metadata": {},
   "outputs": [],
   "source": [
    "model <- load_model_hdf5(\"../data/models/cats_and_dogs_small_2.h5\")\n",
    "history  <- py_load_object('../data/models/2-2-GPU-history_2.pk')\n",
    "df <- data.frame(val_loss=unlist(history$val_loss), val_acc=unlist(history$val_acc), loss=unlist(history$loss), acc=unlist(history$acc), epochs=seq(length(history$val_loss)))\n",
    "summary(model)"
   ]
  },
  {
   "cell_type": "markdown",
   "metadata": {},
   "source": [
    "Let's plot our results again:"
   ]
  },
  {
   "cell_type": "code",
   "execution_count": null,
   "metadata": {
    "scrolled": false
   },
   "outputs": [],
   "source": [
    "options(repr.plot.width=8, repr.plot.height=6)\n",
    "\n",
    "p1 <- ggplot(df, aes(x=epochs)) +\n",
    "  geom_point(aes( y=loss, colour = \"Training loss\")) +\n",
    "  geom_line(aes(y=val_loss,colour = \"Validation loss\")) +\n",
    "  scale_colour_manual(\"\",values=c(\"blue\",\"orange\"))\n",
    "p2 <- ggplot(df, aes(x=epochs)) +\n",
    "  geom_point(aes( y=acc, colour = \"Training acc\")) +\n",
    "  geom_line(aes(y=val_acc,colour = \"Validation acc\")) +\n",
    "  scale_colour_manual(\"\",values=c(\"blue\",\"orange\"))\n",
    "\n",
    "grid.arrange(p1,p2)"
   ]
  },
  {
   "cell_type": "markdown",
   "metadata": {},
   "source": [
    "Thanks to data augmentation and dropout, we are no longer overfitting: the training curves are rather closely tracking the validation \n",
    "curves. We are now able to reach an accuracy of 82%, a 15% relative improvement over the non-regularized model.\n",
    "\n",
    "By leveraging regularization techniques even further and by tuning the network's parameters (such as the number of filters per convolution \n",
    "layer, or the number of layers in the network), we may be able to get an even better accuracy, likely up to 86-87%. However, it would prove \n",
    "very difficult to go any higher just by training our own convnet from scratch, simply because we have so little data to work with. As a \n",
    "next step to improve our accuracy on this problem, we will have to leverage a pre-trained model, which will be the focus of the next two \n",
    "sections."
   ]
  },
  {
   "cell_type": "markdown",
   "metadata": {},
   "source": [
    "## Let's Compare the two and recap¶\n"
   ]
  },
  {
   "cell_type": "code",
   "execution_count": null,
   "metadata": {},
   "outputs": [],
   "source": [
    "before_history  <- py_load_object('../data/models/2-2-GPU-history.pk')\n",
    "df_before <- data.frame(val_loss=unlist(before_history$val_loss), val_acc=unlist(before_history$val_acc), \n",
    "                 loss=unlist(before_history$loss), acc=unlist(before_history$acc), \n",
    "                 epochs=seq(length(before_history$val_loss)))\n",
    "\n",
    "\n",
    "options(repr.plot.width=8, repr.plot.height=6)\n",
    "\n",
    "p1 <- ggplot(df_before, aes(x=epochs)) +\n",
    "  geom_point(aes( y=acc, colour = \"Training acc\")) +\n",
    "  geom_line(aes(y=val_acc,colour = \"Validation acc\")) +\n",
    "  scale_colour_manual(\"\",values=c(\"blue\",\"orange\")) +\n",
    "  ggtitle(\"Before Data Augmentation\")  + theme_bw()\n",
    "\n",
    "p2 <- ggplot(df, aes(x=epochs)) +\n",
    "  geom_point(aes( y=acc, colour = \"Training acc\")) +\n",
    "  geom_line(aes(y=val_acc,colour = \"Validation acc\")) +\n",
    "  scale_colour_manual(\"\",values=c(\"blue\",\"orange\")) +\n",
    "  ggtitle(\"After Data Augmentation\") + theme_bw()\n",
    "\n",
    "grid.arrange(p1,p2)"
   ]
  },
  {
   "cell_type": "code",
   "execution_count": null,
   "metadata": {},
   "outputs": [],
   "source": []
  }
 ],
 "metadata": {
  "kernelspec": {
   "display_name": "R",
   "language": "R",
   "name": "ir"
  },
  "language_info": {
   "codemirror_mode": "r",
   "file_extension": ".r",
   "mimetype": "text/x-r-source",
   "name": "R",
   "pygments_lexer": "r",
   "version": "3.5.1"
  }
 },
 "nbformat": 4,
 "nbformat_minor": 2
}
