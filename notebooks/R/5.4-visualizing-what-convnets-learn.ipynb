{
 "cells": [
  {
   "cell_type": "code",
   "execution_count": 1,
   "metadata": {},
   "outputs": [
    {
     "name": "stderr",
     "output_type": "stream",
     "text": [
      "Loading required package: viridisLite\n",
      "Set session seed to 7 (disabled GPU)\n"
     ]
    }
   ],
   "source": [
    "library(keras)\n",
    "library(viridis)\n",
    "use_condaenv(\"r-tensorflow\")\n",
    "use_session_with_seed(7)\n",
    "options(keras.view_metrics = TRUE)"
   ]
  },
  {
   "cell_type": "markdown",
   "metadata": {},
   "source": [
    "# Visualizing what convnets learn\n",
    "\n",
    "This notebook contains the code sample found in Chapter 5, Section 4 of [Deep Learning with Python](https://www.manning.com/books/deep-learning-with-python?a_aid=keras&a_bid=76564dff). Note that the original text features far more content, in particular further explanations and figures: in this notebook, you will only find source code and related comments.\n",
    "\n",
    "----\n",
    "\n",
    "It is often said that deep learning models are \"black boxes\", learning representations that are difficult to extract and present in a \n",
    "human-readable form. While this is partially true for certain types of deep learning models, it is definitely not true for convnets. The \n",
    "representations learned by convnets are highly amenable to visualization, in large part because they are _representations of visual \n",
    "concepts_. Since 2013, a wide array of techniques have been developed for visualizing and interpreting these representations. We won't \n",
    "survey all of them, but we will cover three of the most accessible and useful ones:\n",
    "\n",
    "* Visualizing intermediate convnet outputs (\"intermediate activations\"). This is useful to understand how successive convnet layers \n",
    "transform their input, and to get a first idea of the meaning of individual convnet filters.\n",
    "* Visualizing convnets filters. This is useful to understand precisely what visual pattern or concept each filter in a convnet is receptive \n",
    "to.\n",
    "* Visualizing heatmaps of class activation in an image. This is useful to understand which part of an image where identified as belonging \n",
    "to a given class, and thus allows to localize objects in images.\n",
    "\n",
    "For the first method -- activation visualization -- we will use the small convnet that we trained from scratch on the cat vs. dog \n",
    "classification problem two sections ago. For the next two methods, we will use the VGG16 model that we introduced in the previous section."
   ]
  },
  {
   "cell_type": "markdown",
   "metadata": {},
   "source": [
    "## Visualizing intermediate activations\n",
    "\n",
    "Visualizing intermediate activations consists in displaying the feature maps that are output by various convolution and pooling layers in a \n",
    "network, given a certain input (the output of a layer is often called its \"activation\", the output of the activation function). This gives \n",
    "a view into how an input is decomposed unto the different filters learned by the network. These feature maps we want to visualize have 3 \n",
    "dimensions: width, height, and depth (channels). Each channel encodes relatively independent features, so the proper way to visualize these \n",
    "feature maps is by independently plotting the contents of every channel, as a 2D image.\n",
    "Let's start by loading the model that we saved in section 5.2:"
   ]
  },
  {
   "cell_type": "code",
   "execution_count": 3,
   "metadata": {},
   "outputs": [
    {
     "name": "stdout",
     "output_type": "stream",
     "text": [
      "________________________________________________________________________________\n",
      "Layer (type)                        Output Shape                    Param #     \n",
      "================================================================================\n",
      "conv2d_5 (Conv2D)                   (None, 148, 148, 32)            896         \n",
      "________________________________________________________________________________\n",
      "max_pooling2d_5 (MaxPooling2D)      (None, 74, 74, 32)              0           \n",
      "________________________________________________________________________________\n",
      "conv2d_6 (Conv2D)                   (None, 72, 72, 64)              18496       \n",
      "________________________________________________________________________________\n",
      "max_pooling2d_6 (MaxPooling2D)      (None, 36, 36, 64)              0           \n",
      "________________________________________________________________________________\n",
      "conv2d_7 (Conv2D)                   (None, 34, 34, 128)             73856       \n",
      "________________________________________________________________________________\n",
      "max_pooling2d_7 (MaxPooling2D)      (None, 17, 17, 128)             0           \n",
      "________________________________________________________________________________\n",
      "conv2d_8 (Conv2D)                   (None, 15, 15, 128)             147584      \n",
      "________________________________________________________________________________\n",
      "max_pooling2d_8 (MaxPooling2D)      (None, 7, 7, 128)               0           \n",
      "________________________________________________________________________________\n",
      "flatten_2 (Flatten)                 (None, 6272)                    0           \n",
      "________________________________________________________________________________\n",
      "dropout_1 (Dropout)                 (None, 6272)                    0           \n",
      "________________________________________________________________________________\n",
      "dense_3 (Dense)                     (None, 512)                     3211776     \n",
      "________________________________________________________________________________\n",
      "dense_4 (Dense)                     (None, 1)                       513         \n",
      "================================================================================\n",
      "Total params: 3,453,121\n",
      "Trainable params: 3,453,121\n",
      "Non-trainable params: 0\n",
      "________________________________________________________________________________\n"
     ]
    }
   ],
   "source": [
    "model <- load_model_hdf5(\"../data/models/cats_and_dogs_small_2.h5\")\n",
    "summary(model)  # As a reminder."
   ]
  },
  {
   "cell_type": "markdown",
   "metadata": {},
   "source": [
    "This will be the input image we will use -- a picture of a cat, not part of images that the network was trained on:"
   ]
  },
  {
   "cell_type": "code",
   "execution_count": 4,
   "metadata": {},
   "outputs": [
    {
     "data": {
      "text/html": [
       "<ol class=list-inline>\n",
       "\t<li>1</li>\n",
       "\t<li>150</li>\n",
       "\t<li>150</li>\n",
       "\t<li>3</li>\n",
       "</ol>\n"
      ],
      "text/latex": [
       "\\begin{enumerate*}\n",
       "\\item 1\n",
       "\\item 150\n",
       "\\item 150\n",
       "\\item 3\n",
       "\\end{enumerate*}\n"
      ],
      "text/markdown": [
       "1. 1\n",
       "2. 150\n",
       "3. 150\n",
       "4. 3\n",
       "\n",
       "\n"
      ],
      "text/plain": [
       "[1]   1 150 150   3"
      ]
     },
     "metadata": {},
     "output_type": "display_data"
    }
   ],
   "source": [
    "img_path <- \"../data/cats_and_dogs_small/test/cats/cat.1700.jpg\"\n",
    "\n",
    "# We preprocess the image into a 4D tensor\n",
    "img <- image_load(img_path, target_size = c(150, 150))\n",
    "img_tensor <- image_to_array(img)\n",
    "img_tensor <- array_reshape(img_tensor, c(1, 150, 150, 3))\n",
    "\n",
    "# Remember that the model was trained on inputs\n",
    "# that were preprocessed in the following way:\n",
    "img_tensor <- img_tensor / 255\n",
    "\n",
    "dim(img_tensor)"
   ]
  },
  {
   "cell_type": "markdown",
   "metadata": {},
   "source": [
    "Let's display our picture:"
   ]
  },
  {
   "cell_type": "code",
   "execution_count": 5,
   "metadata": {},
   "outputs": [
    {
     "data": {
      "image/png": "[encoded data removed]",
      "text/plain": [
       "plot without title"
      ]
     },
     "metadata": {},
     "output_type": "display_data"
    }
   ],
   "source": [
    "options(repr.plot.width=2, repr.plot.height=2)\n",
    "par(oma=c(0,0,0,0), mar=c(0,0,0,0))\n",
    "plot(as.raster(img_tensor[1,,,]))"
   ]
  },
  {
   "cell_type": "markdown",
   "metadata": {},
   "source": [
    "In order to extract the feature maps we want to look at, we will create a Keras model that takes batches of images as input, and outputs \n",
    "the activations of all convolution and pooling layers. To do this, we will use the Keras class `Model`. A `Model` is instantiated using two \n",
    "arguments: an input tensor (or list of input tensors), and an output tensor (or list of output tensors). The resulting class is a Keras \n",
    "model, just like the `Sequential` models that you are familiar with, mapping the specified inputs to the specified outputs. What sets the \n",
    "`Model` class apart is that it allows for models with multiple outputs, unlike `Sequential`. For more information about the `Model` class, see \n",
    "Chapter 7, Section 1."
   ]
  },
  {
   "cell_type": "code",
   "execution_count": 6,
   "metadata": {},
   "outputs": [],
   "source": [
    "# Extracts the outputs of the top 8 layers:\n",
    "layer_outputs <- lapply(model$layers[1:8], function(layer) layer$output)\n",
    "# Creates a model that will return these outputs, given the model input:\n",
    "activation_model <- keras_model(inputs = model$input, outputs = layer_outputs)"
   ]
  },
  {
   "cell_type": "markdown",
   "metadata": {},
   "source": [
    "When fed an image input, this model returns the values of the layer activations in the original model. This is the first time you encounter \n",
    "a multi-output model in this book: until now the models you have seen only had exactly one input and one output. In the general case, a \n",
    "model could have any number of inputs and outputs. This one has one input and 8 outputs, one output per layer activation."
   ]
  },
  {
   "cell_type": "code",
   "execution_count": 7,
   "metadata": {},
   "outputs": [],
   "source": [
    "# Returns a list of five arrays: one array per layer activation\n",
    "activations <- activation_model %>% predict(img_tensor)"
   ]
  },
  {
   "cell_type": "markdown",
   "metadata": {},
   "source": [
    "For instance, this is the activation of the first convolution layer for our cat image input:"
   ]
  },
  {
   "cell_type": "code",
   "execution_count": 8,
   "metadata": {},
   "outputs": [
    {
     "data": {
      "text/html": [
       "<ol class=list-inline>\n",
       "\t<li>1</li>\n",
       "\t<li>148</li>\n",
       "\t<li>148</li>\n",
       "\t<li>32</li>\n",
       "</ol>\n"
      ],
      "text/latex": [
       "\\begin{enumerate*}\n",
       "\\item 1\n",
       "\\item 148\n",
       "\\item 148\n",
       "\\item 32\n",
       "\\end{enumerate*}\n"
      ],
      "text/markdown": [
       "1. 1\n",
       "2. 148\n",
       "3. 148\n",
       "4. 32\n",
       "\n",
       "\n"
      ],
      "text/plain": [
       "[1]   1 148 148  32"
      ]
     },
     "metadata": {},
     "output_type": "display_data"
    }
   ],
   "source": [
    "first_layer_activation <- activations[[1]]\n",
    "dim(first_layer_activation)"
   ]
  },
  {
   "cell_type": "markdown",
   "metadata": {},
   "source": [
    "It's a 148 x 148 feature map with 32 channels. Let's visualize some of them. First we define an R function \n",
    "that will plot a channel:"
   ]
  },
  {
   "cell_type": "code",
   "execution_count": 9,
   "metadata": {},
   "outputs": [],
   "source": [
    "plot_channel <- function(channel) {\n",
    "options(repr.plot.width=2, repr.plot.height=2)\n",
    "par(oma=c(0,0,0,0), mar=c(0,0,0,0))\n",
    "  rotate <- function(x) t(apply(x, 2, rev))\n",
    "  image(rotate(channel), axes = FALSE, asp = 1, \n",
    "        col = viridis(20)\n",
    "        )\n",
    "}"
   ]
  },
  {
   "cell_type": "markdown",
   "metadata": {},
   "source": [
    "Let's try visualizing the 6th channel:"
   ]
  },
  {
   "cell_type": "code",
   "execution_count": 10,
   "metadata": {},
   "outputs": [
    {
     "data": {
      "image/png": "[encoded data removed]",
      "text/plain": [
       "plot without title"
      ]
     },
     "metadata": {},
     "output_type": "display_data"
    }
   ],
   "source": [
    "plot_channel(first_layer_activation[1,,,6])"
   ]
  },
  {
   "cell_type": "markdown",
   "metadata": {},
   "source": [
    "# need to change channel descriptions\n",
    "This channel appears to encode a diagonal edge detector. Let's try the 30th channel -- but note that your own channels may vary, since the \n",
    "specific filters learned by convolution layers are not deterministic."
   ]
  },
  {
   "cell_type": "code",
   "execution_count": 11,
   "metadata": {},
   "outputs": [
    {
     "data": {
      "image/png": "[encoded data removed]",
      "text/plain": [
       "plot without title"
      ]
     },
     "metadata": {},
     "output_type": "display_data"
    }
   ],
   "source": [
    "plot_channel(first_layer_activation[1,,,30])"
   ]
  },
  {
   "cell_type": "markdown",
   "metadata": {},
   "source": [
    "This one looks like a \"bright green dot\" detector, useful to encode cat eyes. At this point, let's go and plot a complete visualization of \n",
    "all the activations in the network. We'll extract and plot every channel in each of our 8 activation maps, and we will stack the results in \n",
    "one big image tensor, with channels stacked side by side."
   ]
  },
  {
   "cell_type": "markdown",
   "metadata": {},
   "source": [
    "# Something is not right with the plotting"
   ]
  },
  {
   "cell_type": "code",
   "execution_count": 12,
   "metadata": {
    "scrolled": true
   },
   "outputs": [
    {
     "name": "stderr",
     "output_type": "stream",
     "text": [
      "Warning message in dir.create(\"cat_activations\"):\n",
      "“'cat_activations' already exists”"
     ]
    }
   ],
   "source": [
    "dir.create(\"cat_activations\")\n",
    "image_size <- 58\n",
    "images_per_row <- 16\n",
    "\n",
    "for (i in 1:8) {\n",
    "  \n",
    "  layer_activation <- activations[[i]]\n",
    "  layer_name <- model$layers[[i]]$name\n",
    " \n",
    "  n_features <- dim(layer_activation)[[4]]\n",
    "  n_cols <- n_features %/% images_per_row\n",
    " \n",
    "  png(paste0(\"cat_activations/\", i, \"_\", layer_name, \".png\"), \n",
    "      width = image_size * images_per_row, \n",
    "      height = image_size * n_cols)\n",
    "  op <- par(mfrow = c(n_cols, images_per_row), mai = rep_len(0.02, 4))\n",
    "  \n",
    "  for (col in 0:(n_cols-1)) {\n",
    "    for (row in 0:(images_per_row-1)) {\n",
    "      channel_image <- layer_activation[1,,,(col*images_per_row) + row + 1]\n",
    "      plot_channel(channel_image)\n",
    "    }\n",
    "  }\n",
    "  \n",
    "  par(op)\n",
    "  dev.off()\n",
    "}"
   ]
  },
  {
   "cell_type": "code",
   "execution_count": null,
   "metadata": {},
   "outputs": [],
   "source": []
  },
  {
   "cell_type": "markdown",
   "metadata": {},
   "source": [
    "A few remarkable things to note here:\n",
    "\n",
    "* The first layer acts as a collection of various edge detectors. At that stage, the activations are still retaining almost all of the \n",
    "information present in the initial picture.\n",
    "* As we go higher-up, the activations become increasingly abstract and less visually interpretable. They start encoding higher-level \n",
    "concepts such as \"cat ear\" or \"cat eye\". Higher-up presentations carry increasingly less information about the visual contents of the \n",
    "image, and increasingly more information related to the class of the image.\n",
    "* The sparsity of the activations is increasing with the depth of the layer: in the first layer, all filters are activated by the input \n",
    "image, but in the following layers more and more filters are blank. This means that the pattern encoded by the filter isn't found in the \n",
    "input image."
   ]
  },
  {
   "cell_type": "markdown",
   "metadata": {},
   "source": [
    "\n",
    "We have just evidenced a very important universal characteristic of the representations learned by deep neural networks: the features \n",
    "extracted by a layer get increasingly abstract with the depth of the layer. The activations of layers higher-up carry less and less \n",
    "information about the specific input being seen, and more and more information about the target (in our case, the class of the image: cat \n",
    "or dog). A deep neural network effectively acts as an __information distillation pipeline__, with raw data going in (in our case, RBG \n",
    "pictures), and getting repeatedly transformed so that irrelevant information gets filtered out (e.g. the specific visual appearance of the \n",
    "image) while useful information get magnified and refined (e.g. the class of the image).\n",
    "\n",
    "This is analogous to the way humans and animals perceive the world: after observing a scene for a few seconds, a human can remember which \n",
    "abstract objects were present in it (e.g. bicycle, tree) but could not remember the specific appearance of these objects. In fact, if you \n",
    "tried to draw a generic bicycle from mind right now, chances are you could not get it even remotely right, even though you have seen \n",
    "thousands of bicycles in your lifetime. Try it right now: this effect is absolutely real. You brain has learned to completely abstract its \n",
    "visual input, to transform it into high-level visual concepts while completely filtering out irrelevant visual details, making it \n",
    "tremendously difficult to remember how things around us actually look."
   ]
  },
  {
   "cell_type": "markdown",
   "metadata": {},
   "source": [
    "## Visualizing convnet filters\n",
    "\n",
    "\n",
    "Another easy thing to do to inspect the filters learned by convnets is to display the visual pattern that each filter is meant to respond \n",
    "to. This can be done with __gradient ascent in input space__: applying __gradient descent__ to the value of the input image of a convnet so \n",
    "as to maximize the response of a specific filter, starting from a blank input image. The resulting input image would be one that the chosen \n",
    "filter is maximally responsive to.\n",
    "\n",
    "The process is simple: we will build a loss function that maximizes the value of a given filter in a given convolution layer, then we \n",
    "will use stochastic gradient descent to adjust the values of the input image so as to maximize this activation value. For instance, here's \n",
    "a loss for the activation of filter 0 in the layer \"block3_conv1\" of the VGG16 network, pre-trained on ImageNet:"
   ]
  },
  {
   "cell_type": "code",
   "execution_count": null,
   "metadata": {},
   "outputs": [],
   "source": [
    "model <- application_vgg16(\n",
    "  weights = \"imagenet\", \n",
    "  include_top = FALSE\n",
    ")\n",
    "\n",
    "layer_name <- \"block3_conv1\"\n",
    "filter_index <- 1\n",
    "\n",
    "layer_output <- get_layer(model, layer_name)$output\n",
    "# loss <- k_mean(layer_output[,,,filter_index])"
   ]
  },
  {
   "cell_type": "code",
   "execution_count": null,
   "metadata": {},
   "outputs": [],
   "source": [
    "loss <- k_mean(layer_output[,,,filter_index])"
   ]
  },
  {
   "cell_type": "markdown",
   "metadata": {},
   "source": [
    "To implement gradient descent, we will need the gradient of this loss with respect to the model's input. To do this, we will use the \n",
    "`gradients` function packaged with the `backend` module of Keras:"
   ]
  },
  {
   "cell_type": "code",
   "execution_count": null,
   "metadata": {},
   "outputs": [],
   "source": [
    "# The call to `gradients` returns a list of tensors (of size 1 in this case)\n",
    "# hence we only keep the first element -- which is a tensor.\n",
    "grads = K.gradients(loss, model.input)[0]"
   ]
  },
  {
   "cell_type": "markdown",
   "metadata": {},
   "source": [
    "A non-obvious trick to use for the gradient descent process to go smoothly is to normalize the gradient tensor, by dividing it by its L2 \n",
    "norm (the square root of the average of the square of the values in the tensor). This ensures that the magnitude of the updates done to the \n",
    "input image is always within a same range."
   ]
  },
  {
   "cell_type": "code",
   "execution_count": null,
   "metadata": {},
   "outputs": [],
   "source": [
    "# We add 1e-5 before dividing so as to avoid accidentally dividing by 0.\n",
    "grads /= (K.sqrt(K.mean(K.square(grads))) + 1e-5)"
   ]
  },
  {
   "cell_type": "markdown",
   "metadata": {},
   "source": [
    "Now we need a way to compute the value of the loss tensor and the gradient tensor, given an input image. We can define a Keras backend \n",
    "function to do this: `iterate` is a function that takes a Numpy tensor (as a list of tensors of size 1) and returns a list of two Numpy \n",
    "tensors: the loss value and the gradient value."
   ]
  },
  {
   "cell_type": "code",
   "execution_count": null,
   "metadata": {},
   "outputs": [],
   "source": [
    "iterate = K.function([model.input], [loss, grads])\n",
    "\n",
    "# Let's test it:\n",
    "import numpy as np\n",
    "loss_value, grads_value = iterate([np.zeros((1, 150, 150, 3))])"
   ]
  },
  {
   "cell_type": "markdown",
   "metadata": {
    "collapsed": true
   },
   "source": [
    "At this point we can define a Python loop to do stochastic gradient descent:"
   ]
  },
  {
   "cell_type": "code",
   "execution_count": null,
   "metadata": {},
   "outputs": [],
   "source": [
    "# We start from a gray image with some noise\n",
    "input_img_data = np.random.random((1, 150, 150, 3)) * 20 + 128.\n",
    "\n",
    "# Run gradient ascent for 40 steps\n",
    "step = 1.  # this is the magnitude of each gradient update\n",
    "for i in range(40):\n",
    "    # Compute the loss value and gradient value\n",
    "    loss_value, grads_value = iterate([input_img_data])\n",
    "    # Here we adjust the input image in the direction that maximizes the loss\n",
    "    input_img_data += grads_value * step"
   ]
  },
  {
   "cell_type": "markdown",
   "metadata": {},
   "source": [
    "The resulting image tensor will be a floating point tensor of shape `(1, 150, 150, 3)`, with values that may not be integer within `[0, \n",
    "255]`. Hence we would need to post-process this tensor to turn it into a displayable image. We do it with the following straightforward \n",
    "utility function:"
   ]
  },
  {
   "cell_type": "code",
   "execution_count": null,
   "metadata": {},
   "outputs": [],
   "source": [
    "def deprocess_image(x):\n",
    "    # normalize tensor: center on 0., ensure std is 0.1\n",
    "    x -= x.mean()\n",
    "    x /= (x.std() + 1e-5)\n",
    "    x *= 0.1\n",
    "\n",
    "    # clip to [0, 1]\n",
    "    x += 0.5\n",
    "    x = np.clip(x, 0, 1)\n",
    "\n",
    "    # convert to RGB array\n",
    "    x *= 255\n",
    "    x = np.clip(x, 0, 255).astype('uint8')\n",
    "    return x"
   ]
  },
  {
   "cell_type": "markdown",
   "metadata": {},
   "source": [
    "Now we have all the pieces, let's put them together into a Python function that takes as input a layer name and a filter index, and that \n",
    "returns a valid image tensor representing the pattern that maximizes the activation the specified filter:"
   ]
  },
  {
   "cell_type": "code",
   "execution_count": null,
   "metadata": {},
   "outputs": [],
   "source": [
    "def generate_pattern(layer_name, filter_index, size=150):\n",
    "    # Build a loss function that maximizes the activation\n",
    "    # of the nth filter of the layer considered.\n",
    "    layer_output = model.get_layer(layer_name).output\n",
    "    loss = K.mean(layer_output[:, :, :, filter_index])\n",
    "\n",
    "    # Compute the gradient of the input picture wrt this loss\n",
    "    grads = K.gradients(loss, model.input)[0]\n",
    "\n",
    "    # Normalization trick: we normalize the gradient\n",
    "    grads /= (K.sqrt(K.mean(K.square(grads))) + 1e-5)\n",
    "\n",
    "    # This function returns the loss and grads given the input picture\n",
    "    iterate = K.function([model.input], [loss, grads])\n",
    "    \n",
    "    # We start from a gray image with some noise\n",
    "    input_img_data = np.random.random((1, size, size, 3)) * 20 + 128.\n",
    "\n",
    "    # Run gradient ascent for 40 steps\n",
    "    step = 1.\n",
    "    for i in range(40):\n",
    "        loss_value, grads_value = iterate([input_img_data])\n",
    "        input_img_data += grads_value * step\n",
    "        \n",
    "    img = input_img_data[0]\n",
    "    return deprocess_image(img)"
   ]
  },
  {
   "cell_type": "markdown",
   "metadata": {},
   "source": [
    "Let's try this:"
   ]
  },
  {
   "cell_type": "code",
   "execution_count": null,
   "metadata": {},
   "outputs": [],
   "source": [
    "plt.imshow(generate_pattern('block3_conv1', 0))\n",
    "plt.show()"
   ]
  },
  {
   "cell_type": "markdown",
   "metadata": {},
   "source": [
    "It seems that filter 0 in layer `block3_conv1` is responsive to a polka dot pattern.\n",
    "\n",
    "Now the fun part: we can start visualising every single filter in every layer. For simplicity, we will only look at the first 64 filters in \n",
    "each layer, and will only look at the first layer of each convolution block (block1_conv1, block2_conv1, block3_conv1, block4_conv1, \n",
    "block5_conv1). We will arrange the outputs on a 8x8 grid of 64x64 filter patterns, with some black margins between each filter pattern."
   ]
  },
  {
   "cell_type": "code",
   "execution_count": null,
   "metadata": {},
   "outputs": [],
   "source": [
    "for layer_name in ['block1_conv1', 'block2_conv1', 'block3_conv1', 'block4_conv1']:\n",
    "    size = 64\n",
    "    margin = 5\n",
    "\n",
    "    # This a empty (black) image where we will store our results.\n",
    "    results = np.zeros((8 * size + 7 * margin, 8 * size + 7 * margin, 3))\n",
    "\n",
    "    for i in range(8):  # iterate over the rows of our results grid\n",
    "        for j in range(8):  # iterate over the columns of our results grid\n",
    "            # Generate the pattern for filter `i + (j * 8)` in `layer_name`\n",
    "            filter_img = generate_pattern(layer_name, i + (j * 8), size=size)\n",
    "\n",
    "            # Put the result in the square `(i, j)` of the results grid\n",
    "            horizontal_start = i * size + i * margin\n",
    "            horizontal_end = horizontal_start + size\n",
    "            vertical_start = j * size + j * margin\n",
    "            vertical_end = vertical_start + size\n",
    "            results[horizontal_start: horizontal_end, vertical_start: vertical_end, :] = filter_img\n",
    "\n",
    "    # Display the results grid\n",
    "    plt.figure(figsize=(20, 20))\n",
    "    plt.imshow(results)\n",
    "    plt.show()"
   ]
  },
  {
   "cell_type": "markdown",
   "metadata": {},
   "source": [
    "These filter visualizations tell us a lot about how convnet layers see the world: each layer in a convnet simply learns a collection of \n",
    "filters such that their inputs can be expressed as a combination of the filters. This is similar to how the Fourier transform decomposes \n",
    "signals onto a bank of cosine functions. The filters in these convnet filter banks get increasingly complex and refined as we go higher-up \n",
    "in the model:\n",
    "\n",
    "* The filters from the first layer in the model (`block1_conv1`) encode simple directional edges and colors (or colored edges in some \n",
    "cases).\n",
    "* The filters from `block2_conv1` encode simple textures made from combinations of edges and colors.\n",
    "* The filters in higher-up layers start resembling textures found in natural images: feathers, eyes, leaves, etc."
   ]
  },
  {
   "cell_type": "markdown",
   "metadata": {},
   "source": [
    "## Visualizing heatmaps of class activation\n",
    "\n",
    "We will introduce one more visualization technique, one that is useful for understanding which parts of a given image led a convnet to its \n",
    "final classification decision. This is helpful for \"debugging\" the decision process of a convnet, in particular in case of a classification \n",
    "mistake. It also allows you to locate specific objects in an image.\n",
    "\n",
    "This general category of techniques is called \"Class Activation Map\" (CAM) visualization, and consists in producing heatmaps of \"class \n",
    "activation\" over input images. A \"class activation\" heatmap is a 2D grid of scores associated with an specific output class, computed for \n",
    "every location in any input image, indicating how important each location is with respect to the class considered. For instance, given a \n",
    "image fed into one of our \"cat vs. dog\" convnet, Class Activation Map visualization allows us to generate a heatmap for the class \"cat\", \n",
    "indicating how cat-like different parts of the image are, and likewise for the class \"dog\", indicating how dog-like differents parts of the \n",
    "image are.\n",
    "\n",
    "The specific implementation we will use is the one described in [Grad-CAM: Why did you say that? Visual Explanations from Deep Networks via \n",
    "Gradient-based Localization](https://arxiv.org/abs/1610.02391). It is very simple: it consists in taking the output feature map of a \n",
    "convolution layer given an input image, and weighing every channel in that feature map by the gradient of the class with respect to the \n",
    "channel. Intuitively, one way to understand this trick is that we are weighting a spatial map of \"how intensely the input image activates \n",
    "different channels\" by \"how important each channel is with regard to the class\", resulting in a spatial map of \"how intensely the input \n",
    "image activates the class\".\n",
    "\n",
    "We will demonstrate this technique using the pre-trained VGG16 network again:"
   ]
  },
  {
   "cell_type": "code",
   "execution_count": null,
   "metadata": {},
   "outputs": [],
   "source": [
    "from keras.applications.vgg16 import VGG16\n",
    "\n",
    "K.clear_session()\n",
    "\n",
    "# Note that we are including the densely-connected classifier on top;\n",
    "# all previous times, we were discarding it.\n",
    "model = VGG16(weights='imagenet')"
   ]
  },
  {
   "cell_type": "markdown",
   "metadata": {},
   "source": [
    "Let's consider the following image of two African elephants, possible a mother and its cub, strolling in the savanna (under a Creative \n",
    "Commons license):\n",
    "\n",
    "![elephants](https://s3.amazonaws.com/book.keras.io/img/ch5/creative_commons_elephant.jpg)"
   ]
  },
  {
   "cell_type": "markdown",
   "metadata": {},
   "source": [
    "Let's convert this image into something the VGG16 model can read: the model was trained on images of size 224x244, preprocessed according \n",
    "to a few rules that are packaged in the utility function `keras.applications.vgg16.preprocess_input`. So we need to load the image, resize \n",
    "it to 224x224, convert it to a Numpy float32 tensor, and apply these pre-processing rules."
   ]
  },
  {
   "cell_type": "code",
   "execution_count": null,
   "metadata": {},
   "outputs": [],
   "source": [
    "from keras.preprocessing import image\n",
    "from keras.applications.vgg16 import preprocess_input, decode_predictions\n",
    "import numpy as np\n",
    "\n",
    "# The local path to our target image\n",
    "img_path = '/Users/fchollet/Downloads/creative_commons_elephant.jpg'\n",
    "\n",
    "# `img` is a PIL image of size 224x224\n",
    "img = image.load_img(img_path, target_size=(224, 224))\n",
    "\n",
    "# `x` is a float32 Numpy array of shape (224, 224, 3)\n",
    "x = image.img_to_array(img)\n",
    "\n",
    "# We add a dimension to transform our array into a \"batch\"\n",
    "# of size (1, 224, 224, 3)\n",
    "x = np.expand_dims(x, axis=0)\n",
    "\n",
    "# Finally we preprocess the batch\n",
    "# (this does channel-wise color normalization)\n",
    "x = preprocess_input(x)"
   ]
  },
  {
   "cell_type": "code",
   "execution_count": null,
   "metadata": {},
   "outputs": [],
   "source": [
    "preds = model.predict(x)\n",
    "print('Predicted:', decode_predictions(preds, top=3)[0])"
   ]
  },
  {
   "cell_type": "markdown",
   "metadata": {},
   "source": [
    "\n",
    "The top-3 classes predicted for this image are:\n",
    "\n",
    "* African elephant (with 92.5% probability)\n",
    "* Tusker (with 7% probability)\n",
    "* Indian elephant (with 0.4% probability)\n",
    "\n",
    "Thus our network has recognized our image as containing an undetermined quantity of African elephants. The entry in the prediction vector \n",
    "that was maximally activated is the one corresponding to the \"African elephant\" class, at index 386:"
   ]
  },
  {
   "cell_type": "code",
   "execution_count": null,
   "metadata": {},
   "outputs": [],
   "source": [
    "np.argmax(preds[0])"
   ]
  },
  {
   "cell_type": "markdown",
   "metadata": {},
   "source": [
    "To visualize which parts of our image were the most \"African elephant\"-like, let's set up the Grad-CAM process:"
   ]
  },
  {
   "cell_type": "code",
   "execution_count": null,
   "metadata": {},
   "outputs": [],
   "source": [
    "# This is the \"african elephant\" entry in the prediction vector\n",
    "african_elephant_output = model.output[:, 386]\n",
    "\n",
    "# The is the output feature map of the `block5_conv3` layer,\n",
    "# the last convolutional layer in VGG16\n",
    "last_conv_layer = model.get_layer('block5_conv3')\n",
    "\n",
    "# This is the gradient of the \"african elephant\" class with regard to\n",
    "# the output feature map of `block5_conv3`\n",
    "grads = K.gradients(african_elephant_output, last_conv_layer.output)[0]\n",
    "\n",
    "# This is a vector of shape (512,), where each entry\n",
    "# is the mean intensity of the gradient over a specific feature map channel\n",
    "pooled_grads = K.mean(grads, axis=(0, 1, 2))\n",
    "\n",
    "# This function allows us to access the values of the quantities we just defined:\n",
    "# `pooled_grads` and the output feature map of `block5_conv3`,\n",
    "# given a sample image\n",
    "iterate = K.function([model.input], [pooled_grads, last_conv_layer.output[0]])\n",
    "\n",
    "# These are the values of these two quantities, as Numpy arrays,\n",
    "# given our sample image of two elephants\n",
    "pooled_grads_value, conv_layer_output_value = iterate([x])\n",
    "\n",
    "# We multiply each channel in the feature map array\n",
    "# by \"how important this channel is\" with regard to the elephant class\n",
    "for i in range(512):\n",
    "    conv_layer_output_value[:, :, i] *= pooled_grads_value[i]\n",
    "\n",
    "# The channel-wise mean of the resulting feature map\n",
    "# is our heatmap of class activation\n",
    "heatmap = np.mean(conv_layer_output_value, axis=-1)"
   ]
  },
  {
   "cell_type": "markdown",
   "metadata": {},
   "source": [
    "For visualization purpose, we will also normalize the heatmap between 0 and 1:"
   ]
  },
  {
   "cell_type": "code",
   "execution_count": null,
   "metadata": {},
   "outputs": [],
   "source": [
    "heatmap = np.maximum(heatmap, 0)\n",
    "heatmap /= np.max(heatmap)\n",
    "plt.matshow(heatmap)\n",
    "plt.show()"
   ]
  },
  {
   "cell_type": "markdown",
   "metadata": {},
   "source": [
    "Finally, we will use OpenCV to generate an image that superimposes the original image with the heatmap we just obtained:"
   ]
  },
  {
   "cell_type": "code",
   "execution_count": null,
   "metadata": {},
   "outputs": [],
   "source": [
    "import cv2\n",
    "\n",
    "# We use cv2 to load the original image\n",
    "img = cv2.imread(img_path)\n",
    "\n",
    "# We resize the heatmap to have the same size as the original image\n",
    "heatmap = cv2.resize(heatmap, (img.shape[1], img.shape[0]))\n",
    "\n",
    "# We convert the heatmap to RGB\n",
    "heatmap = np.uint8(255 * heatmap)\n",
    "\n",
    "# We apply the heatmap to the original image\n",
    "heatmap = cv2.applyColorMap(heatmap, cv2.COLORMAP_JET)\n",
    "\n",
    "# 0.4 here is a heatmap intensity factor\n",
    "superimposed_img = heatmap * 0.4 + img\n",
    "\n",
    "# Save the image to disk\n",
    "cv2.imwrite('/Users/fchollet/Downloads/elephant_cam.jpg', superimposed_img)"
   ]
  },
  {
   "cell_type": "markdown",
   "metadata": {},
   "source": [
    "![elephant cam](https://s3.amazonaws.com/book.keras.io/img/ch5/elephant_cam.jpg)"
   ]
  },
  {
   "cell_type": "markdown",
   "metadata": {},
   "source": [
    "This visualisation technique answers two important questions:\n",
    "\n",
    "* Why did the network think this image contained an African elephant?\n",
    "* Where is the African elephant located in the picture?\n",
    "\n",
    "In particular, it is interesting to note that the ears of the elephant cub are strongly activated: this is probably how the network can \n",
    "tell the difference between African and Indian elephants.\n"
   ]
  }
 ],
 "metadata": {
  "kernelspec": {
   "display_name": "R",
   "language": "R",
   "name": "ir"
  },
  "language_info": {
   "codemirror_mode": "r",
   "file_extension": ".r",
   "mimetype": "text/x-r-source",
   "name": "R",
   "pygments_lexer": "r",
   "version": "3.5.1"
  }
 },
 "nbformat": 4,
 "nbformat_minor": 2
}
