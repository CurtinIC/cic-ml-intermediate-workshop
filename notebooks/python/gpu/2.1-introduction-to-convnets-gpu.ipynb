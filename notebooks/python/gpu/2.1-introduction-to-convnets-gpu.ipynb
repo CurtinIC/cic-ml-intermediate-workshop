{
 "cells": [
  {
   "cell_type": "code",
   "execution_count": 1,
   "metadata": {},
   "outputs": [
    {
     "name": "stderr",
     "output_type": "stream",
     "text": [
      "Using TensorFlow backend.\n"
     ]
    }
   ],
   "source": [
    "import keras\n",
    "import pylab\n",
    "import numpy as np\n",
    "keras.__version__\n",
    "\n",
    "# fix random seed for reproducibility\n",
    "seed = 7\n",
    "np.random.seed(seed)"
   ]
  },
  {
   "cell_type": "markdown",
   "metadata": {
    "collapsed": true
   },
   "source": [
    "# 5.1 - Introduction to convnets\n",
    "\n",
    "This notebook contains the code sample found in Chapter 5, Section 1 of [Deep Learning with Python](https://www.manning.com/books/deep-learning-with-python?a_aid=keras&a_bid=76564dff). Note that the original text features far more content, in particular further explanations and figures: in this notebook, you will only find source code and related comments.\n",
    "\n",
    "----\n",
    "\n",
    "First, let's take a practical look at a very simple convnet example. We will use our convnet to classify MNIST digits, a task that you've already been \n",
    "through in Chapter 2, using a densely-connected network (our test accuracy then was 97.8%). Even though our convnet will be very basic, its \n",
    "accuracy will still blow out of the water that of the densely-connected model from Chapter 2.\n",
    "\n",
    "The 6 lines of code below show you what a basic convnet looks like. It's a stack of `Conv2D` and `MaxPooling2D` layers. We'll see in a \n",
    "minute what they do concretely.\n",
    "Importantly, a convnet takes as input tensors of shape `(image_height, image_width, image_channels)` (not including the batch dimension). \n",
    "In our case, we will configure our convnet to process inputs of size `(28, 28, 1)`, which is the format of MNIST images. We do this via \n",
    "passing the argument `input_shape=(28, 28, 1)` to our first layer."
   ]
  },
  {
   "cell_type": "code",
   "execution_count": 2,
   "metadata": {},
   "outputs": [],
   "source": [
    "from keras import layers\n",
    "from keras import models\n",
    "\n",
    "model = models.Sequential()\n",
    "model.add(layers.Conv2D(32, (3, 3), activation='relu', input_shape=(28, 28, 1)))\n",
    "model.add(layers.MaxPooling2D((2, 2)))\n",
    "model.add(layers.Conv2D(64, (3, 3), activation='relu'))\n",
    "model.add(layers.MaxPooling2D((2, 2)))\n",
    "model.add(layers.Conv2D(64, (3, 3), activation='relu'))"
   ]
  },
  {
   "cell_type": "markdown",
   "metadata": {},
   "source": [
    "<center><h3>Let's display the architecture of our convnet so far:"
   ]
  },
  {
   "cell_type": "code",
   "execution_count": 3,
   "metadata": {},
   "outputs": [
    {
     "name": "stdout",
     "output_type": "stream",
     "text": [
      "_________________________________________________________________\n",
      "Layer (type)                 Output Shape              Param #   \n",
      "=================================================================\n",
      "conv2d_1 (Conv2D)            (None, 26, 26, 32)        320       \n",
      "_________________________________________________________________\n",
      "max_pooling2d_1 (MaxPooling2 (None, 13, 13, 32)        0         \n",
      "_________________________________________________________________\n",
      "conv2d_2 (Conv2D)            (None, 11, 11, 64)        18496     \n",
      "_________________________________________________________________\n",
      "max_pooling2d_2 (MaxPooling2 (None, 5, 5, 64)          0         \n",
      "_________________________________________________________________\n",
      "conv2d_3 (Conv2D)            (None, 3, 3, 64)          36928     \n",
      "=================================================================\n",
      "Total params: 55,744\n",
      "Trainable params: 55,744\n",
      "Non-trainable params: 0\n",
      "_________________________________________________________________\n"
     ]
    }
   ],
   "source": [
    "model.summary()"
   ]
  },
  {
   "cell_type": "markdown",
   "metadata": {
    "collapsed": true
   },
   "source": [
    "You can see above that the output of every `Conv2D` and `MaxPooling2D` layer is a 3D tensor of shape `(height, width, channels)`. The width \n",
    "and height dimensions tend to shrink as we go deeper in the network. The number of channels is controlled by the first argument passed to \n",
    "the `Conv2D` layers (e.g. 32 or 64).\n",
    "\n",
    "The next step would be to feed our last output tensor (of shape `(3, 3, 64)`) into a densely-connected classifier network like those you are \n",
    "already familiar with: a stack of `Dense` layers. These classifiers process vectors, which are 1D, whereas our current output is a 3D tensor. \n",
    "So first, we will have to flatten our 3D outputs to 1D, and then add a few `Dense` layers on top:"
   ]
  },
  {
   "cell_type": "code",
   "execution_count": 4,
   "metadata": {},
   "outputs": [],
   "source": [
    "model.add(layers.Flatten())\n",
    "model.add(layers.Dense(64, activation='relu'))\n",
    "model.add(layers.Dense(10, activation='softmax'))"
   ]
  },
  {
   "cell_type": "markdown",
   "metadata": {},
   "source": [
    "We are going to do 10-way classification, so we use a final layer with 10 outputs and a softmax activation. Now here's what our network \n",
    "looks like:"
   ]
  },
  {
   "cell_type": "code",
   "execution_count": 5,
   "metadata": {},
   "outputs": [
    {
     "name": "stdout",
     "output_type": "stream",
     "text": [
      "_________________________________________________________________\n",
      "Layer (type)                 Output Shape              Param #   \n",
      "=================================================================\n",
      "conv2d_1 (Conv2D)            (None, 26, 26, 32)        320       \n",
      "_________________________________________________________________\n",
      "max_pooling2d_1 (MaxPooling2 (None, 13, 13, 32)        0         \n",
      "_________________________________________________________________\n",
      "conv2d_2 (Conv2D)            (None, 11, 11, 64)        18496     \n",
      "_________________________________________________________________\n",
      "max_pooling2d_2 (MaxPooling2 (None, 5, 5, 64)          0         \n",
      "_________________________________________________________________\n",
      "conv2d_3 (Conv2D)            (None, 3, 3, 64)          36928     \n",
      "_________________________________________________________________\n",
      "flatten_1 (Flatten)          (None, 576)               0         \n",
      "_________________________________________________________________\n",
      "dense_1 (Dense)              (None, 64)                36928     \n",
      "_________________________________________________________________\n",
      "dense_2 (Dense)              (None, 10)                650       \n",
      "=================================================================\n",
      "Total params: 93,322\n",
      "Trainable params: 93,322\n",
      "Non-trainable params: 0\n",
      "_________________________________________________________________\n"
     ]
    }
   ],
   "source": [
    "model.summary()"
   ]
  },
  {
   "cell_type": "markdown",
   "metadata": {},
   "source": [
    "As you can see, our `(3, 3, 64)` outputs were flattened into vectors of shape `(576,)`, before going through two `Dense` layers.\n",
    "\n",
    "Now, let's train our convnet on the MNIST digits. We will reuse a lot of the code we have already covered in the MNIST example from Chapter \n",
    "2."
   ]
  },
  {
   "cell_type": "code",
   "execution_count": 6,
   "metadata": {},
   "outputs": [],
   "source": [
    "from keras.datasets import mnist\n",
    "from keras.utils import to_categorical\n",
    "\n",
    "(train_images, train_labels), (test_images, test_labels) = mnist.load_data()\n",
    "\n",
    "train_images = train_images.reshape((60000, 28, 28, 1))\n",
    "train_images = train_images.astype('float32') / 255\n",
    "\n",
    "test_images = test_images.reshape((10000, 28, 28, 1))\n",
    "test_images = test_images.astype('float32') / 255\n",
    "\n",
    "train_labels = to_categorical(train_labels)\n",
    "test_labels = to_categorical(test_labels)"
   ]
  },
  {
   "cell_type": "code",
   "execution_count": 7,
   "metadata": {
    "scrolled": true
   },
   "outputs": [
    {
     "name": "stdout",
     "output_type": "stream",
     "text": [
      "Train on 48000 samples, validate on 12000 samples\n",
      "Epoch 1/100\n",
      "48000/48000 [==============================] - 3s 65us/step - loss: 0.1968 - acc: 0.9384 - val_loss: 0.0648 - val_acc: 0.9799\n",
      "Epoch 2/100\n",
      "48000/48000 [==============================] - 2s 47us/step - loss: 0.0523 - acc: 0.9832 - val_loss: 0.0443 - val_acc: 0.9858\n",
      "Epoch 3/100\n",
      "48000/48000 [==============================] - 2s 50us/step - loss: 0.0351 - acc: 0.9893 - val_loss: 0.0462 - val_acc: 0.9868\n",
      "Epoch 4/100\n",
      "48000/48000 [==============================] - 2s 50us/step - loss: 0.0264 - acc: 0.9913 - val_loss: 0.0469 - val_acc: 0.9877\n",
      "Epoch 5/100\n",
      "48000/48000 [==============================] - 2s 48us/step - loss: 0.0198 - acc: 0.9940 - val_loss: 0.0397 - val_acc: 0.9906\n",
      "Epoch 6/100\n",
      "48000/48000 [==============================] - 2s 47us/step - loss: 0.0167 - acc: 0.9947 - val_loss: 0.0371 - val_acc: 0.9904\n",
      "Epoch 7/100\n",
      "48000/48000 [==============================] - 2s 50us/step - loss: 0.0135 - acc: 0.9957 - val_loss: 0.0378 - val_acc: 0.9914\n",
      "Epoch 8/100\n",
      "48000/48000 [==============================] - 3s 52us/step - loss: 0.0111 - acc: 0.9965 - val_loss: 0.0387 - val_acc: 0.9909\n",
      "Epoch 9/100\n",
      "48000/48000 [==============================] - 3s 52us/step - loss: 0.0090 - acc: 0.9973 - val_loss: 0.0464 - val_acc: 0.9909\n",
      "Epoch 10/100\n",
      "48000/48000 [==============================] - 2s 48us/step - loss: 0.0085 - acc: 0.9972 - val_loss: 0.0525 - val_acc: 0.9890\n",
      "Epoch 11/100\n",
      "48000/48000 [==============================] - 2s 51us/step - loss: 0.0065 - acc: 0.9980 - val_loss: 0.0404 - val_acc: 0.9922\n",
      "Epoch 12/100\n",
      "48000/48000 [==============================] - 2s 51us/step - loss: 0.0054 - acc: 0.9984 - val_loss: 0.0552 - val_acc: 0.9908\n",
      "Epoch 13/100\n",
      "48000/48000 [==============================] - 2s 51us/step - loss: 0.0063 - acc: 0.9981 - val_loss: 0.0452 - val_acc: 0.9922\n",
      "Epoch 14/100\n",
      "48000/48000 [==============================] - 2s 51us/step - loss: 0.0045 - acc: 0.9987 - val_loss: 0.0488 - val_acc: 0.9923\n",
      "Epoch 15/100\n",
      "48000/48000 [==============================] - 2s 51us/step - loss: 0.0050 - acc: 0.9987 - val_loss: 0.0516 - val_acc: 0.9911\n",
      "Epoch 16/100\n",
      "48000/48000 [==============================] - 2s 51us/step - loss: 0.0038 - acc: 0.9986 - val_loss: 0.0783 - val_acc: 0.9902\n",
      "Epoch 17/100\n",
      "48000/48000 [==============================] - 2s 50us/step - loss: 0.0036 - acc: 0.9989 - val_loss: 0.0729 - val_acc: 0.9892\n",
      "Epoch 18/100\n",
      "48000/48000 [==============================] - 3s 52us/step - loss: 0.0035 - acc: 0.9990 - val_loss: 0.0640 - val_acc: 0.9908\n",
      "Epoch 19/100\n",
      "48000/48000 [==============================] - 2s 52us/step - loss: 0.0038 - acc: 0.9990 - val_loss: 0.0637 - val_acc: 0.9912\n",
      "Epoch 20/100\n",
      "48000/48000 [==============================] - 2s 47us/step - loss: 0.0037 - acc: 0.9990 - val_loss: 0.0699 - val_acc: 0.9902\n",
      "Epoch 21/100\n",
      "48000/48000 [==============================] - 2s 49us/step - loss: 0.0028 - acc: 0.9991 - val_loss: 0.0661 - val_acc: 0.9915\n",
      "Epoch 22/100\n",
      "48000/48000 [==============================] - 3s 52us/step - loss: 0.0026 - acc: 0.9991 - val_loss: 0.0648 - val_acc: 0.9919\n",
      "Epoch 23/100\n",
      "48000/48000 [==============================] - 2s 48us/step - loss: 0.0023 - acc: 0.9994 - val_loss: 0.0631 - val_acc: 0.9924\n",
      "Epoch 24/100\n",
      "48000/48000 [==============================] - 2s 48us/step - loss: 0.0029 - acc: 0.9994 - val_loss: 0.0777 - val_acc: 0.9917\n",
      "Epoch 25/100\n",
      "48000/48000 [==============================] - 2s 50us/step - loss: 0.0024 - acc: 0.9991 - val_loss: 0.0733 - val_acc: 0.9912\n",
      "Epoch 26/100\n",
      "48000/48000 [==============================] - 3s 52us/step - loss: 0.0019 - acc: 0.9994 - val_loss: 0.0783 - val_acc: 0.9909\n",
      "Epoch 27/100\n",
      "48000/48000 [==============================] - 3s 52us/step - loss: 0.0029 - acc: 0.9992 - val_loss: 0.0700 - val_acc: 0.9916\n",
      "Epoch 28/100\n",
      "48000/48000 [==============================] - 2s 51us/step - loss: 0.0016 - acc: 0.9996 - val_loss: 0.0897 - val_acc: 0.9907\n",
      "Epoch 29/100\n",
      "48000/48000 [==============================] - 2s 52us/step - loss: 0.0024 - acc: 0.9994 - val_loss: 0.0864 - val_acc: 0.9906\n",
      "Epoch 30/100\n",
      "48000/48000 [==============================] - 2s 52us/step - loss: 0.0017 - acc: 0.9995 - val_loss: 0.0821 - val_acc: 0.9908\n",
      "Epoch 31/100\n",
      "48000/48000 [==============================] - 2s 52us/step - loss: 0.0013 - acc: 0.9997 - val_loss: 0.0963 - val_acc: 0.9892\n",
      "Epoch 32/100\n",
      "48000/48000 [==============================] - 2s 52us/step - loss: 9.1117e-04 - acc: 0.9997 - val_loss: 0.0776 - val_acc: 0.9920\n",
      "Epoch 33/100\n",
      "48000/48000 [==============================] - 2s 52us/step - loss: 0.0021 - acc: 0.9994 - val_loss: 0.0821 - val_acc: 0.9910\n",
      "Epoch 34/100\n",
      "48000/48000 [==============================] - 2s 52us/step - loss: 0.0026 - acc: 0.9994 - val_loss: 0.0767 - val_acc: 0.9915\n",
      "Epoch 35/100\n",
      "48000/48000 [==============================] - 2s 52us/step - loss: 0.0012 - acc: 0.9997 - val_loss: 0.0884 - val_acc: 0.9910\n",
      "Epoch 36/100\n",
      "48000/48000 [==============================] - 2s 52us/step - loss: 0.0017 - acc: 0.9995 - val_loss: 0.0739 - val_acc: 0.9918\n",
      "Epoch 37/100\n",
      "48000/48000 [==============================] - 2s 52us/step - loss: 0.0024 - acc: 0.9996 - val_loss: 0.0846 - val_acc: 0.9916\n",
      "Epoch 38/100\n",
      "48000/48000 [==============================] - 2s 52us/step - loss: 0.0019 - acc: 0.9995 - val_loss: 0.0922 - val_acc: 0.9900\n",
      "Epoch 39/100\n",
      "48000/48000 [==============================] - 2s 50us/step - loss: 0.0018 - acc: 0.9996 - val_loss: 0.0970 - val_acc: 0.9908\n",
      "Epoch 40/100\n",
      "48000/48000 [==============================] - 3s 55us/step - loss: 0.0025 - acc: 0.9995 - val_loss: 0.0881 - val_acc: 0.9914\n",
      "Epoch 41/100\n",
      "48000/48000 [==============================] - 3s 54us/step - loss: 0.0024 - acc: 0.9994 - val_loss: 0.0835 - val_acc: 0.9917\n",
      "Epoch 42/100\n",
      "48000/48000 [==============================] - 3s 55us/step - loss: 0.0011 - acc: 0.9998 - val_loss: 0.0954 - val_acc: 0.9908\n",
      "Epoch 43/100\n",
      "48000/48000 [==============================] - 3s 54us/step - loss: 0.0019 - acc: 0.9997 - val_loss: 0.0852 - val_acc: 0.9918\n",
      "Epoch 44/100\n",
      "48000/48000 [==============================] - 2s 49us/step - loss: 0.0021 - acc: 0.9997 - val_loss: 0.0878 - val_acc: 0.9912\n",
      "Epoch 45/100\n",
      "48000/48000 [==============================] - 3s 52us/step - loss: 0.0023 - acc: 0.9995 - val_loss: 0.0762 - val_acc: 0.9927\n",
      "Epoch 46/100\n",
      "48000/48000 [==============================] - 3s 55us/step - loss: 0.0023 - acc: 0.9996 - val_loss: 0.0867 - val_acc: 0.9918\n",
      "Epoch 47/100\n",
      "48000/48000 [==============================] - 2s 50us/step - loss: 0.0019 - acc: 0.9997 - val_loss: 0.1053 - val_acc: 0.9902\n",
      "Epoch 48/100\n",
      "48000/48000 [==============================] - 3s 55us/step - loss: 0.0024 - acc: 0.9996 - val_loss: 0.0947 - val_acc: 0.9912\n",
      "Epoch 49/100\n",
      "48000/48000 [==============================] - 2s 51us/step - loss: 0.0015 - acc: 0.9998 - val_loss: 0.0914 - val_acc: 0.9920\n",
      "Epoch 50/100\n",
      "48000/48000 [==============================] - 3s 52us/step - loss: 0.0010 - acc: 0.9997 - val_loss: 0.0864 - val_acc: 0.9921\n",
      "Epoch 51/100\n",
      "48000/48000 [==============================] - 3s 52us/step - loss: 0.0013 - acc: 0.9999 - val_loss: 0.0940 - val_acc: 0.9912\n",
      "Epoch 52/100\n",
      "48000/48000 [==============================] - 3s 52us/step - loss: 0.0017 - acc: 0.9996 - val_loss: 0.0940 - val_acc: 0.9911\n",
      "Epoch 53/100\n",
      "48000/48000 [==============================] - 3s 52us/step - loss: 0.0012 - acc: 0.9997 - val_loss: 0.0962 - val_acc: 0.9912\n",
      "Epoch 54/100\n",
      "48000/48000 [==============================] - 3s 52us/step - loss: 0.0019 - acc: 0.9997 - val_loss: 0.0983 - val_acc: 0.9921\n",
      "Epoch 55/100\n",
      "48000/48000 [==============================] - 3s 52us/step - loss: 8.3757e-04 - acc: 0.9997 - val_loss: 0.0957 - val_acc: 0.9914\n",
      "Epoch 56/100\n",
      "48000/48000 [==============================] - 3s 52us/step - loss: 0.0016 - acc: 0.9997 - val_loss: 0.0968 - val_acc: 0.9915\n",
      "Epoch 57/100\n",
      "48000/48000 [==============================] - 3s 52us/step - loss: 0.0014 - acc: 0.9997 - val_loss: 0.1013 - val_acc: 0.9923\n",
      "Epoch 58/100\n",
      "48000/48000 [==============================] - 3s 52us/step - loss: 0.0016 - acc: 0.9998 - val_loss: 0.0934 - val_acc: 0.9922\n",
      "Epoch 59/100\n"
     ]
    },
    {
     "name": "stdout",
     "output_type": "stream",
     "text": [
      "48000/48000 [==============================] - 2s 52us/step - loss: 3.4092e-04 - acc: 0.9999 - val_loss: 0.0921 - val_acc: 0.9924\n",
      "Epoch 60/100\n",
      "48000/48000 [==============================] - 2s 52us/step - loss: 0.0018 - acc: 0.9997 - val_loss: 0.0975 - val_acc: 0.9912\n",
      "Epoch 61/100\n",
      "48000/48000 [==============================] - 2s 52us/step - loss: 0.0011 - acc: 0.9998 - val_loss: 0.1079 - val_acc: 0.9909\n",
      "Epoch 62/100\n",
      "48000/48000 [==============================] - 2s 52us/step - loss: 0.0015 - acc: 0.9999 - val_loss: 0.0865 - val_acc: 0.9922\n",
      "Epoch 63/100\n",
      "48000/48000 [==============================] - 2s 52us/step - loss: 0.0011 - acc: 0.9998 - val_loss: 0.1017 - val_acc: 0.9912\n",
      "Epoch 64/100\n",
      "48000/48000 [==============================] - 2s 52us/step - loss: 6.5087e-04 - acc: 0.9999 - val_loss: 0.0927 - val_acc: 0.9918\n",
      "Epoch 65/100\n",
      "48000/48000 [==============================] - 2s 52us/step - loss: 0.0037 - acc: 0.9996 - val_loss: 0.1022 - val_acc: 0.9917\n",
      "Epoch 66/100\n",
      "48000/48000 [==============================] - 2s 52us/step - loss: 6.8344e-04 - acc: 0.9999 - val_loss: 0.1048 - val_acc: 0.9912\n",
      "Epoch 67/100\n",
      "48000/48000 [==============================] - 2s 52us/step - loss: 0.0015 - acc: 0.9997 - val_loss: 0.1024 - val_acc: 0.9908\n",
      "Epoch 68/100\n",
      "48000/48000 [==============================] - 2s 49us/step - loss: 5.7112e-04 - acc: 0.9999 - val_loss: 0.1035 - val_acc: 0.9909\n",
      "Epoch 69/100\n",
      "48000/48000 [==============================] - 2s 52us/step - loss: 0.0018 - acc: 0.9997 - val_loss: 0.0969 - val_acc: 0.9917\n",
      "Epoch 70/100\n",
      "48000/48000 [==============================] - 2s 52us/step - loss: 8.8987e-04 - acc: 0.9999 - val_loss: 0.1009 - val_acc: 0.9918\n",
      "Epoch 71/100\n",
      "48000/48000 [==============================] - 2s 52us/step - loss: 7.7269e-04 - acc: 0.9999 - val_loss: 0.0936 - val_acc: 0.9920\n",
      "Epoch 72/100\n",
      "48000/48000 [==============================] - 2s 52us/step - loss: 4.4911e-04 - acc: 0.9999 - val_loss: 0.0849 - val_acc: 0.9928\n",
      "Epoch 73/100\n",
      "48000/48000 [==============================] - 2s 50us/step - loss: 0.0012 - acc: 0.9998 - val_loss: 0.0860 - val_acc: 0.9928\n",
      "Epoch 74/100\n",
      "48000/48000 [==============================] - 2s 52us/step - loss: 0.0012 - acc: 0.9998 - val_loss: 0.1001 - val_acc: 0.9921\n",
      "Epoch 75/100\n",
      "48000/48000 [==============================] - 2s 52us/step - loss: 0.0014 - acc: 0.9998 - val_loss: 0.0931 - val_acc: 0.9921\n",
      "Epoch 76/100\n",
      "48000/48000 [==============================] - 2s 49us/step - loss: 7.6072e-04 - acc: 0.9998 - val_loss: 0.1042 - val_acc: 0.9904\n",
      "Epoch 77/100\n",
      "48000/48000 [==============================] - 3s 52us/step - loss: 9.1803e-04 - acc: 0.9999 - val_loss: 0.1194 - val_acc: 0.9906\n",
      "Epoch 78/100\n",
      "48000/48000 [==============================] - 2s 52us/step - loss: 8.2848e-04 - acc: 0.9999 - val_loss: 0.0911 - val_acc: 0.9929\n",
      "Epoch 79/100\n",
      "48000/48000 [==============================] - 2s 52us/step - loss: 8.2511e-04 - acc: 0.9999 - val_loss: 0.1084 - val_acc: 0.9910\n",
      "Epoch 80/100\n",
      "48000/48000 [==============================] - 2s 52us/step - loss: 0.0020 - acc: 0.9997 - val_loss: 0.1188 - val_acc: 0.9902\n",
      "Epoch 81/100\n",
      "48000/48000 [==============================] - 3s 52us/step - loss: 0.0023 - acc: 0.9997 - val_loss: 0.0918 - val_acc: 0.9920\n",
      "Epoch 82/100\n",
      "48000/48000 [==============================] - 2s 52us/step - loss: 0.0010 - acc: 0.9998 - val_loss: 0.1141 - val_acc: 0.9909\n",
      "Epoch 83/100\n",
      "48000/48000 [==============================] - 3s 52us/step - loss: 0.0012 - acc: 0.9999 - val_loss: 0.1139 - val_acc: 0.9914\n",
      "Epoch 84/100\n",
      "48000/48000 [==============================] - 3s 52us/step - loss: 0.0029 - acc: 0.9996 - val_loss: 0.1046 - val_acc: 0.9913\n",
      "Epoch 85/100\n",
      "48000/48000 [==============================] - 2s 52us/step - loss: 6.2393e-04 - acc: 0.9999 - val_loss: 0.1084 - val_acc: 0.9915\n",
      "Epoch 86/100\n",
      "48000/48000 [==============================] - 2s 52us/step - loss: 2.8151e-05 - acc: 1.0000 - val_loss: 0.1055 - val_acc: 0.9917\n",
      "Epoch 87/100\n",
      "48000/48000 [==============================] - 2s 52us/step - loss: 0.0014 - acc: 0.9999 - val_loss: 0.1024 - val_acc: 0.9922\n",
      "Epoch 88/100\n",
      "48000/48000 [==============================] - 2s 52us/step - loss: 0.0015 - acc: 0.9998 - val_loss: 0.1060 - val_acc: 0.9913\n",
      "Epoch 89/100\n",
      "48000/48000 [==============================] - 2s 52us/step - loss: 7.2549e-04 - acc: 0.9999 - val_loss: 0.1289 - val_acc: 0.9895\n",
      "Epoch 90/100\n",
      "48000/48000 [==============================] - 2s 52us/step - loss: 0.0035 - acc: 0.9996 - val_loss: 0.0989 - val_acc: 0.9923\n",
      "Epoch 91/100\n",
      "48000/48000 [==============================] - 3s 52us/step - loss: 4.4684e-04 - acc: 0.9999 - val_loss: 0.1043 - val_acc: 0.9919\n",
      "Epoch 92/100\n",
      "48000/48000 [==============================] - 2s 50us/step - loss: 0.0024 - acc: 0.9997 - val_loss: 0.1277 - val_acc: 0.9901\n",
      "Epoch 93/100\n",
      "48000/48000 [==============================] - 2s 52us/step - loss: 0.0012 - acc: 0.9997 - val_loss: 0.1066 - val_acc: 0.9913\n",
      "Epoch 94/100\n",
      "48000/48000 [==============================] - 2s 47us/step - loss: 0.0020 - acc: 0.9997 - val_loss: 0.0992 - val_acc: 0.9920\n",
      "Epoch 95/100\n",
      "48000/48000 [==============================] - 2s 47us/step - loss: 0.0015 - acc: 0.9997 - val_loss: 0.0974 - val_acc: 0.9919\n",
      "Epoch 96/100\n",
      "48000/48000 [==============================] - 2s 52us/step - loss: 6.3728e-04 - acc: 0.9999 - val_loss: 0.1050 - val_acc: 0.9918\n",
      "Epoch 97/100\n",
      "48000/48000 [==============================] - 2s 52us/step - loss: 0.0013 - acc: 0.9998 - val_loss: 0.0951 - val_acc: 0.9917\n",
      "Epoch 98/100\n",
      "48000/48000 [==============================] - 2s 48us/step - loss: 8.8774e-04 - acc: 0.9999 - val_loss: 0.0965 - val_acc: 0.9923\n",
      "Epoch 99/100\n",
      "48000/48000 [==============================] - 2s 48us/step - loss: 0.0011 - acc: 0.9999 - val_loss: 0.0956 - val_acc: 0.9922\n",
      "Epoch 100/100\n",
      "48000/48000 [==============================] - 2s 50us/step - loss: 5.0361e-04 - acc: 0.9999 - val_loss: 0.0998 - val_acc: 0.9919\n"
     ]
    }
   ],
   "source": [
    "model.compile(optimizer='rmsprop',\n",
    "              loss='categorical_crossentropy',\n",
    "              metrics=['accuracy'])\n",
    "history = model.fit(train_images, train_labels, epochs=100, batch_size=64, validation_split=0.2)"
   ]
  },
  {
   "cell_type": "code",
   "execution_count": 8,
   "metadata": {},
   "outputs": [],
   "source": [
    "# from keras.models import load_model\n",
    "# model = load_model('../data/models/2-1-GPU.h5')"
   ]
  },
  {
   "cell_type": "code",
   "execution_count": 9,
   "metadata": {},
   "outputs": [
    {
     "data": {
      "text/plain": [
       "dict_keys(['val_loss', 'val_acc', 'loss', 'acc'])"
      ]
     },
     "execution_count": 9,
     "metadata": {},
     "output_type": "execute_result"
    }
   ],
   "source": [
    "history_dict = history.history\n",
    "history_dict.keys()"
   ]
  },
  {
   "cell_type": "code",
   "execution_count": 10,
   "metadata": {},
   "outputs": [
    {
     "name": "stdout",
     "output_type": "stream",
     "text": [
      "val_loss: 0.09977321027201072\n",
      " val_acc: 0.9919166666666667\n",
      "    loss: 0.0005036134576607196\n",
      "     acc: 0.9999166666666667\n"
     ]
    }
   ],
   "source": [
    "print('val_loss: {}'.format(history_dict['val_loss'][-1]))\n",
    "print(' val_acc: {}'.format(history_dict['val_acc'][-1]))\n",
    "print('    loss: {}'.format(history_dict['loss'][-1]))\n",
    "print('     acc: {}'.format(history_dict['acc'][-1]))"
   ]
  },
  {
   "cell_type": "code",
   "execution_count": 11,
   "metadata": {},
   "outputs": [
    {
     "data": {
      "text/plain": [
       "<matplotlib.legend.Legend at 0x7effdc7c5f28>"
      ]
     },
     "execution_count": 11,
     "metadata": {},
     "output_type": "execute_result"
    },
    {
     "data": {
      "image/png": "[encoded data removed]",
      "text/plain": [
       "<Figure size 960x480 with 2 Axes>"
      ]
     },
     "metadata": {},
     "output_type": "display_data"
    }
   ],
   "source": [
    "f, (ax1, ax2) = pylab.subplots(1, 2, figsize=(12, 6), dpi= 80)\n",
    "\n",
    "ax1.plot(history_dict['loss'], 'o--', label='Training')\n",
    "ax1.plot(history_dict['val_loss'], 'o--', label='Validation')\n",
    "ax1.set_xlabel('Number of Epocs')\n",
    "ax1.set_ylabel('Loss')\n",
    "ax1.legend()\n",
    "ax2.plot(history_dict['val_acc'], 'o--', label='Validation')\n",
    "ax2.plot(history_dict['acc'], 'o--', label='Training')\n",
    "ax2.set_xlabel('Number of Epocs')\n",
    "ax2.set_ylabel('Accuracy')\n",
    "ax2.legend()"
   ]
  },
  {
   "cell_type": "code",
   "execution_count": 12,
   "metadata": {},
   "outputs": [
    {
     "name": "stdout",
     "output_type": "stream",
     "text": [
      "10000/10000 [==============================] - 0s 25us/step\n"
     ]
    }
   ],
   "source": [
    "test_loss, test_acc = model.evaluate(test_images, test_labels)"
   ]
  },
  {
   "cell_type": "code",
   "execution_count": 13,
   "metadata": {},
   "outputs": [
    {
     "data": {
      "text/plain": [
       "0.9916"
      ]
     },
     "execution_count": 13,
     "metadata": {},
     "output_type": "execute_result"
    }
   ],
   "source": [
    "test_acc"
   ]
  },
  {
   "cell_type": "markdown",
   "metadata": {},
   "source": [
    "While our densely-connected network from Chapter 2 had a test accuracy of 97.8%, our basic convnet has a test accuracy of 99.3%: we \n",
    "decreased our error rate by 68% (relative). Not bad! "
   ]
  },
  {
   "cell_type": "code",
   "execution_count": 14,
   "metadata": {},
   "outputs": [
    {
     "ename": "OSError",
     "evalue": "Unable to create file (unable to open file: name = '../data/models/2-1-GPU.h5', errno = 2, error message = 'No such file or directory', flags = 13, o_flags = 242)",
     "output_type": "error",
     "traceback": [
      "\u001b[0;31m---------------------------------------------------------------------------\u001b[0m",
      "\u001b[0;31mOSError\u001b[0m                                   Traceback (most recent call last)",
      "\u001b[0;32m<ipython-input-14-eda5dce55dfb>\u001b[0m in \u001b[0;36m<module>\u001b[0;34m()\u001b[0m\n\u001b[1;32m      1\u001b[0m \u001b[0;32mimport\u001b[0m \u001b[0mpickle\u001b[0m\u001b[0;34m\u001b[0m\u001b[0m\n\u001b[0;32m----> 2\u001b[0;31m \u001b[0mmodel\u001b[0m\u001b[0;34m.\u001b[0m\u001b[0msave\u001b[0m\u001b[0;34m(\u001b[0m\u001b[0;34m'../data/models/2-1-GPU.h5'\u001b[0m\u001b[0;34m)\u001b[0m\u001b[0;34m\u001b[0m\u001b[0m\n\u001b[0m\u001b[1;32m      3\u001b[0m \u001b[0mhistory_file\u001b[0m \u001b[0;34m=\u001b[0m \u001b[0mopen\u001b[0m\u001b[0;34m(\u001b[0m\u001b[0;34m'../data/models/2-1-GPU-history.pk'\u001b[0m\u001b[0;34m,\u001b[0m \u001b[0;34m'wb'\u001b[0m\u001b[0;34m)\u001b[0m\u001b[0;34m\u001b[0m\u001b[0m\n\u001b[1;32m      4\u001b[0m \u001b[0mpickle\u001b[0m\u001b[0;34m.\u001b[0m\u001b[0mdump\u001b[0m\u001b[0;34m(\u001b[0m\u001b[0mhistory_dict\u001b[0m\u001b[0;34m,\u001b[0m \u001b[0mfile\u001b[0m\u001b[0;34m=\u001b[0m\u001b[0mhistory_file\u001b[0m\u001b[0;34m)\u001b[0m\u001b[0;34m\u001b[0m\u001b[0m\n\u001b[1;32m      5\u001b[0m \u001b[0mhistory_file\u001b[0m\u001b[0;34m.\u001b[0m\u001b[0mclose\u001b[0m\u001b[0;34m(\u001b[0m\u001b[0;34m)\u001b[0m\u001b[0;34m\u001b[0m\u001b[0m\n",
      "\u001b[0;32m/usr/local/lib/python3.6/dist-packages/keras/engine/network.py\u001b[0m in \u001b[0;36msave\u001b[0;34m(self, filepath, overwrite, include_optimizer)\u001b[0m\n\u001b[1;32m   1083\u001b[0m             \u001b[0;32mraise\u001b[0m \u001b[0mNotImplementedError\u001b[0m\u001b[0;34m\u001b[0m\u001b[0m\n\u001b[1;32m   1084\u001b[0m         \u001b[0;32mfrom\u001b[0m \u001b[0;34m.\u001b[0m\u001b[0;34m.\u001b[0m\u001b[0mmodels\u001b[0m \u001b[0;32mimport\u001b[0m \u001b[0msave_model\u001b[0m\u001b[0;34m\u001b[0m\u001b[0m\n\u001b[0;32m-> 1085\u001b[0;31m         \u001b[0msave_model\u001b[0m\u001b[0;34m(\u001b[0m\u001b[0mself\u001b[0m\u001b[0;34m,\u001b[0m \u001b[0mfilepath\u001b[0m\u001b[0;34m,\u001b[0m \u001b[0moverwrite\u001b[0m\u001b[0;34m,\u001b[0m \u001b[0minclude_optimizer\u001b[0m\u001b[0;34m)\u001b[0m\u001b[0;34m\u001b[0m\u001b[0m\n\u001b[0m\u001b[1;32m   1086\u001b[0m \u001b[0;34m\u001b[0m\u001b[0m\n\u001b[1;32m   1087\u001b[0m     \u001b[0;32mdef\u001b[0m \u001b[0msave_weights\u001b[0m\u001b[0;34m(\u001b[0m\u001b[0mself\u001b[0m\u001b[0;34m,\u001b[0m \u001b[0mfilepath\u001b[0m\u001b[0;34m,\u001b[0m \u001b[0moverwrite\u001b[0m\u001b[0;34m=\u001b[0m\u001b[0;32mTrue\u001b[0m\u001b[0;34m)\u001b[0m\u001b[0;34m:\u001b[0m\u001b[0;34m\u001b[0m\u001b[0m\n",
      "\u001b[0;32m/usr/local/lib/python3.6/dist-packages/keras/engine/saving.py\u001b[0m in \u001b[0;36msave_model\u001b[0;34m(model, filepath, overwrite, include_optimizer)\u001b[0m\n\u001b[1;32m    103\u001b[0m                 \u001b[0;32mreturn\u001b[0m\u001b[0;34m\u001b[0m\u001b[0m\n\u001b[1;32m    104\u001b[0m \u001b[0;34m\u001b[0m\u001b[0m\n\u001b[0;32m--> 105\u001b[0;31m         \u001b[0mf\u001b[0m \u001b[0;34m=\u001b[0m \u001b[0mh5py\u001b[0m\u001b[0;34m.\u001b[0m\u001b[0mFile\u001b[0m\u001b[0;34m(\u001b[0m\u001b[0mfilepath\u001b[0m\u001b[0;34m,\u001b[0m \u001b[0mmode\u001b[0m\u001b[0;34m=\u001b[0m\u001b[0;34m'w'\u001b[0m\u001b[0;34m)\u001b[0m\u001b[0;34m\u001b[0m\u001b[0m\n\u001b[0m\u001b[1;32m    106\u001b[0m         \u001b[0mopened_new_file\u001b[0m \u001b[0;34m=\u001b[0m \u001b[0;32mTrue\u001b[0m\u001b[0;34m\u001b[0m\u001b[0m\n\u001b[1;32m    107\u001b[0m     \u001b[0;32melse\u001b[0m\u001b[0;34m:\u001b[0m\u001b[0;34m\u001b[0m\u001b[0m\n",
      "\u001b[0;32m/usr/local/lib/python3.6/dist-packages/h5py/_hl/files.py\u001b[0m in \u001b[0;36m__init__\u001b[0;34m(self, name, mode, driver, libver, userblock_size, swmr, **kwds)\u001b[0m\n\u001b[1;32m    310\u001b[0m             \u001b[0;32mwith\u001b[0m \u001b[0mphil\u001b[0m\u001b[0;34m:\u001b[0m\u001b[0;34m\u001b[0m\u001b[0m\n\u001b[1;32m    311\u001b[0m                 \u001b[0mfapl\u001b[0m \u001b[0;34m=\u001b[0m \u001b[0mmake_fapl\u001b[0m\u001b[0;34m(\u001b[0m\u001b[0mdriver\u001b[0m\u001b[0;34m,\u001b[0m \u001b[0mlibver\u001b[0m\u001b[0;34m,\u001b[0m \u001b[0;34m**\u001b[0m\u001b[0mkwds\u001b[0m\u001b[0;34m)\u001b[0m\u001b[0;34m\u001b[0m\u001b[0m\n\u001b[0;32m--> 312\u001b[0;31m                 \u001b[0mfid\u001b[0m \u001b[0;34m=\u001b[0m \u001b[0mmake_fid\u001b[0m\u001b[0;34m(\u001b[0m\u001b[0mname\u001b[0m\u001b[0;34m,\u001b[0m \u001b[0mmode\u001b[0m\u001b[0;34m,\u001b[0m \u001b[0muserblock_size\u001b[0m\u001b[0;34m,\u001b[0m \u001b[0mfapl\u001b[0m\u001b[0;34m,\u001b[0m \u001b[0mswmr\u001b[0m\u001b[0;34m=\u001b[0m\u001b[0mswmr\u001b[0m\u001b[0;34m)\u001b[0m\u001b[0;34m\u001b[0m\u001b[0m\n\u001b[0m\u001b[1;32m    313\u001b[0m \u001b[0;34m\u001b[0m\u001b[0m\n\u001b[1;32m    314\u001b[0m                 \u001b[0;32mif\u001b[0m \u001b[0mswmr_support\u001b[0m\u001b[0;34m:\u001b[0m\u001b[0;34m\u001b[0m\u001b[0m\n",
      "\u001b[0;32m/usr/local/lib/python3.6/dist-packages/h5py/_hl/files.py\u001b[0m in \u001b[0;36mmake_fid\u001b[0;34m(name, mode, userblock_size, fapl, fcpl, swmr)\u001b[0m\n\u001b[1;32m    146\u001b[0m         \u001b[0mfid\u001b[0m \u001b[0;34m=\u001b[0m \u001b[0mh5f\u001b[0m\u001b[0;34m.\u001b[0m\u001b[0mcreate\u001b[0m\u001b[0;34m(\u001b[0m\u001b[0mname\u001b[0m\u001b[0;34m,\u001b[0m \u001b[0mh5f\u001b[0m\u001b[0;34m.\u001b[0m\u001b[0mACC_EXCL\u001b[0m\u001b[0;34m,\u001b[0m \u001b[0mfapl\u001b[0m\u001b[0;34m=\u001b[0m\u001b[0mfapl\u001b[0m\u001b[0;34m,\u001b[0m \u001b[0mfcpl\u001b[0m\u001b[0;34m=\u001b[0m\u001b[0mfcpl\u001b[0m\u001b[0;34m)\u001b[0m\u001b[0;34m\u001b[0m\u001b[0m\n\u001b[1;32m    147\u001b[0m     \u001b[0;32melif\u001b[0m \u001b[0mmode\u001b[0m \u001b[0;34m==\u001b[0m \u001b[0;34m'w'\u001b[0m\u001b[0;34m:\u001b[0m\u001b[0;34m\u001b[0m\u001b[0m\n\u001b[0;32m--> 148\u001b[0;31m         \u001b[0mfid\u001b[0m \u001b[0;34m=\u001b[0m \u001b[0mh5f\u001b[0m\u001b[0;34m.\u001b[0m\u001b[0mcreate\u001b[0m\u001b[0;34m(\u001b[0m\u001b[0mname\u001b[0m\u001b[0;34m,\u001b[0m \u001b[0mh5f\u001b[0m\u001b[0;34m.\u001b[0m\u001b[0mACC_TRUNC\u001b[0m\u001b[0;34m,\u001b[0m \u001b[0mfapl\u001b[0m\u001b[0;34m=\u001b[0m\u001b[0mfapl\u001b[0m\u001b[0;34m,\u001b[0m \u001b[0mfcpl\u001b[0m\u001b[0;34m=\u001b[0m\u001b[0mfcpl\u001b[0m\u001b[0;34m)\u001b[0m\u001b[0;34m\u001b[0m\u001b[0m\n\u001b[0m\u001b[1;32m    149\u001b[0m     \u001b[0;32melif\u001b[0m \u001b[0mmode\u001b[0m \u001b[0;34m==\u001b[0m \u001b[0;34m'a'\u001b[0m\u001b[0;34m:\u001b[0m\u001b[0;34m\u001b[0m\u001b[0m\n\u001b[1;32m    150\u001b[0m         \u001b[0;31m# Open in append mode (read/write).\u001b[0m\u001b[0;34m\u001b[0m\u001b[0;34m\u001b[0m\u001b[0m\n",
      "\u001b[0;32mh5py/_objects.pyx\u001b[0m in \u001b[0;36mh5py._objects.with_phil.wrapper\u001b[0;34m()\u001b[0m\n",
      "\u001b[0;32mh5py/_objects.pyx\u001b[0m in \u001b[0;36mh5py._objects.with_phil.wrapper\u001b[0;34m()\u001b[0m\n",
      "\u001b[0;32mh5py/h5f.pyx\u001b[0m in \u001b[0;36mh5py.h5f.create\u001b[0;34m()\u001b[0m\n",
      "\u001b[0;31mOSError\u001b[0m: Unable to create file (unable to open file: name = '../data/models/2-1-GPU.h5', errno = 2, error message = 'No such file or directory', flags = 13, o_flags = 242)"
     ]
    }
   ],
   "source": [
    "import pickle\n",
    "model.save('../data/models/2-1-GPU.h5')\n",
    "history_file = open('../data/models/2-1-GPU-history.pk', 'wb')\n",
    "pickle.dump(history_dict, file=history_file)\n",
    "history_file.close()\n"
   ]
  },
  {
   "cell_type": "code",
   "execution_count": null,
   "metadata": {},
   "outputs": [],
   "source": []
  }
 ],
 "metadata": {
  "kernelspec": {
   "display_name": "Python 3",
   "language": "python",
   "name": "python3"
  },
  "language_info": {
   "codemirror_mode": {
    "name": "ipython",
    "version": 3
   },
   "file_extension": ".py",
   "mimetype": "text/x-python",
   "name": "python",
   "nbconvert_exporter": "python",
   "pygments_lexer": "ipython3",
   "version": "3.6.5"
  }
 },
 "nbformat": 4,
 "nbformat_minor": 2
}
